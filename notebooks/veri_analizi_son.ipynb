{
 "cells": [
  {
   "cell_type": "markdown",
   "id": "2a48f917-5306-4a1d-bfb7-2798d2e3aaa2",
   "metadata": {},
   "source": [
    "<img src=\"logo.jpg\" alt=\"Logo\" style=\"display:block; margin-left:auto; margin-right:auto;\">\n",
    "\n",
    "<div style=\"text-align: center;\">\n",
    "    <h2><font color='black'>Akıllı Balık Çiftliği Projesi</font></h2>\n",
    "</div>\n",
    "<br>"
   ]
  },
  {
   "cell_type": "markdown",
   "id": "c2443b4d-2e86-4c5e-992a-e07cd96510e6",
   "metadata": {},
   "source": [
    "## <font color = 'red'>Veri Analizi"
   ]
  },
  {
   "cell_type": "markdown",
   "id": "1ee538a8-3ef5-444a-a752-ddac8f374419",
   "metadata": {
    "panel-layout": {
     "height": 50.7969,
     "visible": true,
     "width": 100
    }
   },
   "source": [
    "### Kullanılan Python Kütüphaneleri"
   ]
  },
  {
   "cell_type": "code",
   "execution_count": 5,
   "id": "ec2bd2c6-f9e0-4657-a937-7eb9e0258152",
   "metadata": {
    "panel-layout": {
     "height": 0,
     "visible": true,
     "width": 100
    }
   },
   "outputs": [],
   "source": [
    "# Sayısal işlemler ve matematiksel hesaplamalar için\n",
    "import numpy as np\n",
    "\n",
    "# Veri manipülasyonu ve analiz için\n",
    "import pandas as pd\n",
    "\n",
    "# Veri görselleştirme için\n",
    "import matplotlib.pyplot as plt\n",
    "import seaborn as sns\n",
    "\n",
    "# Uyarıları bastırmak için\n",
    "import warnings\n",
    "warnings.filterwarnings(\"ignore\")"
   ]
  },
  {
   "cell_type": "markdown",
   "id": "31d11d90-c0bb-4199-8821-78ec7f2d3f37",
   "metadata": {
    "panel-layout": {
     "height": 44.0938,
     "visible": true,
     "width": 100
    }
   },
   "source": [
    "### Veri Setinin Yüklenmesi"
   ]
  },
  {
   "cell_type": "code",
   "execution_count": 7,
   "id": "208d6f18-1ac7-4c90-ab17-0f3caadc35ab",
   "metadata": {},
   "outputs": [],
   "source": [
    "# Veri setini okuma ve yükleme\n",
    "train_df = pd.read_csv(\"realfishdataset.csv\")"
   ]
  },
  {
   "cell_type": "markdown",
   "id": "077bd545-a422-412b-88b4-984f939aa984",
   "metadata": {
    "panel-layout": {
     "height": 44.0938,
     "visible": true,
     "width": 100
    }
   },
   "source": [
    "### Veri Setimizdeki Sütunlar"
   ]
  },
  {
   "cell_type": "code",
   "execution_count": 9,
   "id": "10c77807-32e0-4589-844a-c60dd0caba9b",
   "metadata": {
    "panel-layout": {
     "height": 27.1406,
     "visible": true,
     "width": 100
    }
   },
   "outputs": [
    {
     "data": {
      "text/plain": [
       "Index(['ph', 'temperature', 'turbidity', 'fish'], dtype='object')"
      ]
     },
     "execution_count": 9,
     "metadata": {},
     "output_type": "execute_result"
    }
   ],
   "source": [
    "train_df.columns"
   ]
  },
  {
   "cell_type": "markdown",
   "id": "54ba8a76-9619-4833-8373-e05ceb577fb3",
   "metadata": {
    "panel-layout": {
     "height": 44.0938,
     "visible": true,
     "width": 100
    }
   },
   "source": [
    "### İlk 5 Satırın Görünümü"
   ]
  },
  {
   "cell_type": "code",
   "execution_count": 11,
   "id": "c8812d4d-b53d-4d05-be04-e4ee7e068993",
   "metadata": {},
   "outputs": [
    {
     "data": {
      "text/html": [
       "<div>\n",
       "<style scoped>\n",
       "    .dataframe tbody tr th:only-of-type {\n",
       "        vertical-align: middle;\n",
       "    }\n",
       "\n",
       "    .dataframe tbody tr th {\n",
       "        vertical-align: top;\n",
       "    }\n",
       "\n",
       "    .dataframe thead th {\n",
       "        text-align: right;\n",
       "    }\n",
       "</style>\n",
       "<table border=\"1\" class=\"dataframe\">\n",
       "  <thead>\n",
       "    <tr style=\"text-align: right;\">\n",
       "      <th></th>\n",
       "      <th>ph</th>\n",
       "      <th>temperature</th>\n",
       "      <th>turbidity</th>\n",
       "      <th>fish</th>\n",
       "    </tr>\n",
       "  </thead>\n",
       "  <tbody>\n",
       "    <tr>\n",
       "      <th>0</th>\n",
       "      <td>6.0</td>\n",
       "      <td>27.0</td>\n",
       "      <td>4.0</td>\n",
       "      <td>katla</td>\n",
       "    </tr>\n",
       "    <tr>\n",
       "      <th>1</th>\n",
       "      <td>7.6</td>\n",
       "      <td>28.0</td>\n",
       "      <td>5.9</td>\n",
       "      <td>sing</td>\n",
       "    </tr>\n",
       "    <tr>\n",
       "      <th>2</th>\n",
       "      <td>7.8</td>\n",
       "      <td>27.0</td>\n",
       "      <td>5.5</td>\n",
       "      <td>sing</td>\n",
       "    </tr>\n",
       "    <tr>\n",
       "      <th>3</th>\n",
       "      <td>6.5</td>\n",
       "      <td>31.0</td>\n",
       "      <td>5.5</td>\n",
       "      <td>katla</td>\n",
       "    </tr>\n",
       "    <tr>\n",
       "      <th>4</th>\n",
       "      <td>8.2</td>\n",
       "      <td>27.0</td>\n",
       "      <td>8.5</td>\n",
       "      <td>prawn</td>\n",
       "    </tr>\n",
       "  </tbody>\n",
       "</table>\n",
       "</div>"
      ],
      "text/plain": [
       "    ph  temperature  turbidity   fish\n",
       "0  6.0         27.0        4.0  katla\n",
       "1  7.6         28.0        5.9   sing\n",
       "2  7.8         27.0        5.5   sing\n",
       "3  6.5         31.0        5.5  katla\n",
       "4  8.2         27.0        8.5  prawn"
      ]
     },
     "execution_count": 11,
     "metadata": {},
     "output_type": "execute_result"
    }
   ],
   "source": [
    "train_df.head()"
   ]
  },
  {
   "cell_type": "markdown",
   "id": "0d06d4e2-c968-4e74-bf1f-c9de3932c4db",
   "metadata": {
    "panel-layout": {
     "height": 44.0938,
     "visible": true,
     "width": 100
    }
   },
   "source": [
    "### Verilerin İstatiksel Değeri"
   ]
  },
  {
   "cell_type": "code",
   "execution_count": 13,
   "id": "a60be857-24a3-4023-bc36-3f6de26055e0",
   "metadata": {
    "panel-layout": {
     "height": 254,
     "visible": true,
     "width": 100
    }
   },
   "outputs": [
    {
     "data": {
      "text/html": [
       "<div>\n",
       "<style scoped>\n",
       "    .dataframe tbody tr th:only-of-type {\n",
       "        vertical-align: middle;\n",
       "    }\n",
       "\n",
       "    .dataframe tbody tr th {\n",
       "        vertical-align: top;\n",
       "    }\n",
       "\n",
       "    .dataframe thead th {\n",
       "        text-align: right;\n",
       "    }\n",
       "</style>\n",
       "<table border=\"1\" class=\"dataframe\">\n",
       "  <thead>\n",
       "    <tr style=\"text-align: right;\">\n",
       "      <th></th>\n",
       "      <th>ph</th>\n",
       "      <th>temperature</th>\n",
       "      <th>turbidity</th>\n",
       "    </tr>\n",
       "  </thead>\n",
       "  <tbody>\n",
       "    <tr>\n",
       "      <th>count</th>\n",
       "      <td>40280.000000</td>\n",
       "      <td>40280.000000</td>\n",
       "      <td>40280.000000</td>\n",
       "    </tr>\n",
       "    <tr>\n",
       "      <th>mean</th>\n",
       "      <td>7.512655</td>\n",
       "      <td>22.000871</td>\n",
       "      <td>4.463909</td>\n",
       "    </tr>\n",
       "    <tr>\n",
       "      <th>std</th>\n",
       "      <td>0.810823</td>\n",
       "      <td>4.575368</td>\n",
       "      <td>2.132095</td>\n",
       "    </tr>\n",
       "    <tr>\n",
       "      <th>min</th>\n",
       "      <td>5.500000</td>\n",
       "      <td>4.000000</td>\n",
       "      <td>1.000000</td>\n",
       "    </tr>\n",
       "    <tr>\n",
       "      <th>25%</th>\n",
       "      <td>6.950000</td>\n",
       "      <td>18.000000</td>\n",
       "      <td>3.480000</td>\n",
       "    </tr>\n",
       "    <tr>\n",
       "      <th>50%</th>\n",
       "      <td>7.500000</td>\n",
       "      <td>21.120000</td>\n",
       "      <td>3.570000</td>\n",
       "    </tr>\n",
       "    <tr>\n",
       "      <th>75%</th>\n",
       "      <td>8.180000</td>\n",
       "      <td>25.000000</td>\n",
       "      <td>4.120000</td>\n",
       "    </tr>\n",
       "    <tr>\n",
       "      <th>max</th>\n",
       "      <td>9.000000</td>\n",
       "      <td>35.000000</td>\n",
       "      <td>15.800000</td>\n",
       "    </tr>\n",
       "  </tbody>\n",
       "</table>\n",
       "</div>"
      ],
      "text/plain": [
       "                 ph   temperature     turbidity\n",
       "count  40280.000000  40280.000000  40280.000000\n",
       "mean       7.512655     22.000871      4.463909\n",
       "std        0.810823      4.575368      2.132095\n",
       "min        5.500000      4.000000      1.000000\n",
       "25%        6.950000     18.000000      3.480000\n",
       "50%        7.500000     21.120000      3.570000\n",
       "75%        8.180000     25.000000      4.120000\n",
       "max        9.000000     35.000000     15.800000"
      ]
     },
     "execution_count": 13,
     "metadata": {},
     "output_type": "execute_result"
    }
   ],
   "source": [
    "train_df.describe()"
   ]
  },
  {
   "cell_type": "markdown",
   "id": "6c439e02-eb1b-4f7a-a8e4-827d02de0a6f",
   "metadata": {
    "panel-layout": {
     "height": 44.0938,
     "visible": true,
     "width": 100
    }
   },
   "source": [
    "### Veri Tipleri, Boş Veri Var Mı?"
   ]
  },
  {
   "cell_type": "code",
   "execution_count": 15,
   "id": "7b9cf584-fd9e-4c03-a108-9ebc55918a38",
   "metadata": {
    "panel-layout": {
     "height": 0,
     "visible": true,
     "width": 100
    }
   },
   "outputs": [
    {
     "name": "stdout",
     "output_type": "stream",
     "text": [
      "<class 'pandas.core.frame.DataFrame'>\n",
      "RangeIndex: 40280 entries, 0 to 40279\n",
      "Data columns (total 4 columns):\n",
      " #   Column       Non-Null Count  Dtype  \n",
      "---  ------       --------------  -----  \n",
      " 0   ph           40280 non-null  float64\n",
      " 1   temperature  40280 non-null  float64\n",
      " 2   turbidity    40280 non-null  float64\n",
      " 3   fish         40280 non-null  object \n",
      "dtypes: float64(3), object(1)\n",
      "memory usage: 1.2+ MB\n"
     ]
    }
   ],
   "source": [
    "train_df.info()"
   ]
  },
  {
   "cell_type": "markdown",
   "id": "c0da562d-744c-454a-bfc3-d011a1994118",
   "metadata": {
    "panel-layout": {
     "height": 44.0938,
     "visible": true,
     "width": 100
    }
   },
   "source": [
    "### Katerorik Verilerin Görselleştirilmesi (fish)"
   ]
  },
  {
   "cell_type": "code",
   "execution_count": 17,
   "id": "73b030b4-b7a6-485b-9fe9-a1b9aeb988d4",
   "metadata": {
    "panel-layout": {
     "height": 730,
     "visible": true,
     "width": 100
    }
   },
   "outputs": [
    {
     "data": {
      "image/png": "[encoded data removed]",
      "text/plain": [
       "<Figure size 1200x600 with 1 Axes>"
      ]
     },
     "metadata": {},
     "output_type": "display_data"
    }
   ],
   "source": [
    "def bar_plot(variable):\n",
    "    var = train_df[variable]  # Kategorik sütunu al\n",
    "    varValue = var.value_counts()  # Her bir kategori ve adetlerini al\n",
    "    \n",
    "    # Grafik boyutlarını ayarla\n",
    "    plt.figure(figsize = (12,6))\n",
    "    plt.bar(varValue.index, varValue)  # Çubuk grafiği oluştur\n",
    "    plt.xticks(varValue.index, varValue.index.values)  # X ekseni değerlerini ayarla\n",
    "    plt.ylabel(\"\")  # Y ekseni etiketini kaldır\n",
    "    plt.yticks([])  # Y ekseni değerlerini gizle\n",
    "    plt.xlabel(\"\")  # X ekseni etiketini kaldır\n",
    "    plt.title(\"Balık Türleri\")  # Grafiğe başlık ekle\n",
    "    \n",
    "    # Çubukların üstüne adet yazdır\n",
    "    bars = plt.bar(varValue.index, varValue, color='skyblue')\n",
    "    for bar in bars:\n",
    "        plt.text(bar.get_x() + bar.get_width()/2, \n",
    "                 bar.get_height(), \n",
    "                 str(int(bar.get_height())),  # Değeri tam sayı olarak yaz\n",
    "                 ha='center', va='bottom')  # Ortala ve çubuğun üstüne yerleştir\n",
    "        \n",
    "    # Grafiği göster\n",
    "    plt.show()\n",
    "    \n",
    "# Balık türlerinin grafiğini oluştur\n",
    "bar_plot(\"fish\")"
   ]
  },
  {
   "cell_type": "markdown",
   "id": "0c8a58d2-abbe-4f37-9bb1-83913261b8a7",
   "metadata": {
    "panel-layout": {
     "height": 44.0938,
     "visible": true,
     "width": 100
    }
   },
   "source": [
    "### Sayısal Verilerin Görselleştirilmesi (pH, Bulanıklık, Sıcaklık)"
   ]
  },
  {
   "cell_type": "code",
   "execution_count": 19,
   "id": "5df89605-667c-46b3-b11e-10da270c1bc3",
   "metadata": {},
   "outputs": [
    {
     "data": {
      "image/png": "[encoded data removed]",
      "text/plain": [
       "<Figure size 1200x600 with 1 Axes>"
      ]
     },
     "metadata": {},
     "output_type": "display_data"
    },
    {
     "data": {
      "image/png": "[encoded data removed]",
      "text/plain": [
       "<Figure size 1200x600 with 1 Axes>"
      ]
     },
     "metadata": {},
     "output_type": "display_data"
    },
    {
     "data": {
      "image/png": "[encoded data removed]",
      "text/plain": [
       "<Figure size 1200x600 with 1 Axes>"
      ]
     },
     "metadata": {},
     "output_type": "display_data"
    }
   ],
   "source": [
    "def plot_hist(variable):\n",
    "    # Grafik boyutları\n",
    "    plt.figure(figsize=(12, 6))\n",
    "    \n",
    "    # Histogram oluştur\n",
    "    counts, bins, bars = plt.hist(train_df[variable], bins=50, color=\"blue\", edgecolor=\"black\")\n",
    "    \n",
    "    # Her çubuğun üzerine metin ekle\n",
    "    for i in range(len(bins)-1):\n",
    "        plt.text((bins[i] + bins[i+1]) / 2,  # Çubuğun yatay merkezi\n",
    "                 counts[i],                  # Çubuğun yüksekliği\n",
    "                 str(int(counts[i])),        # Adet bilgisini tam sayı olarak ekle\n",
    "                 ha='center', va='bottom', fontsize=8)\n",
    "    \n",
    "    # Ekseni etiketle\n",
    "    plt.xlabel(variable)\n",
    "    plt.ylabel(\"\")  # Y eksenindeki metni kaldır\n",
    "    plt.yticks([])  # Y eksenindeki sayıları gizle\n",
    "    plt.title(f\"{variable} Değerlerinin Histogram Dağılımı\")\n",
    "    plt.show()\n",
    "\n",
    "# Sayısal değişkenlerin listesi\n",
    "numericVar = [\"ph\", \"turbidity\", \"temperature\"]\n",
    "\n",
    "# Her bir sayısal değişken için histogram çiz\n",
    "for n in numericVar:\n",
    "    plot_hist(n)\n"
   ]
  },
  {
   "cell_type": "markdown",
   "id": "d1e27496-712a-4d86-b89c-326d44a8f76c",
   "metadata": {
    "panel-layout": {
     "height": 44.0938,
     "visible": true,
     "width": 100
    }
   },
   "source": [
    "### Balık Türlerine Göre Verilerin Ortalaması"
   ]
  },
  {
   "cell_type": "code",
   "execution_count": 21,
   "id": "918ba487-d4d4-496a-81b2-ae0feb295b6b",
   "metadata": {
    "panel-layout": {
     "height": 1065,
     "visible": true,
     "width": 100
    }
   },
   "outputs": [
    {
     "data": {
      "text/html": [
       "<div>\n",
       "<style scoped>\n",
       "    .dataframe tbody tr th:only-of-type {\n",
       "        vertical-align: middle;\n",
       "    }\n",
       "\n",
       "    .dataframe tbody tr th {\n",
       "        vertical-align: top;\n",
       "    }\n",
       "\n",
       "    .dataframe thead th {\n",
       "        text-align: right;\n",
       "    }\n",
       "</style>\n",
       "<table border=\"1\" class=\"dataframe\">\n",
       "  <thead>\n",
       "    <tr style=\"text-align: right;\">\n",
       "      <th></th>\n",
       "      <th>fish</th>\n",
       "      <th>ph</th>\n",
       "      <th>temperature</th>\n",
       "      <th>turbidity</th>\n",
       "    </tr>\n",
       "  </thead>\n",
       "  <tbody>\n",
       "    <tr>\n",
       "      <th>0</th>\n",
       "      <td>karpio</td>\n",
       "      <td>7.236364</td>\n",
       "      <td>19.363636</td>\n",
       "      <td>7.684848</td>\n",
       "    </tr>\n",
       "    <tr>\n",
       "      <th>1</th>\n",
       "      <td>katla</td>\n",
       "      <td>7.686529</td>\n",
       "      <td>23.184216</td>\n",
       "      <td>3.742779</td>\n",
       "    </tr>\n",
       "    <tr>\n",
       "      <th>2</th>\n",
       "      <td>koi</td>\n",
       "      <td>6.680913</td>\n",
       "      <td>26.016598</td>\n",
       "      <td>4.616100</td>\n",
       "    </tr>\n",
       "    <tr>\n",
       "      <th>3</th>\n",
       "      <td>magur</td>\n",
       "      <td>7.236364</td>\n",
       "      <td>25.181818</td>\n",
       "      <td>7.709091</td>\n",
       "    </tr>\n",
       "    <tr>\n",
       "      <th>4</th>\n",
       "      <td>pangas</td>\n",
       "      <td>8.459932</td>\n",
       "      <td>21.545352</td>\n",
       "      <td>3.687828</td>\n",
       "    </tr>\n",
       "    <tr>\n",
       "      <th>5</th>\n",
       "      <td>prawn</td>\n",
       "      <td>7.896142</td>\n",
       "      <td>28.899110</td>\n",
       "      <td>6.416202</td>\n",
       "    </tr>\n",
       "    <tr>\n",
       "      <th>6</th>\n",
       "      <td>rui</td>\n",
       "      <td>7.062020</td>\n",
       "      <td>22.430707</td>\n",
       "      <td>3.749495</td>\n",
       "    </tr>\n",
       "    <tr>\n",
       "      <th>7</th>\n",
       "      <td>shrimp</td>\n",
       "      <td>7.153596</td>\n",
       "      <td>22.138814</td>\n",
       "      <td>6.829775</td>\n",
       "    </tr>\n",
       "    <tr>\n",
       "      <th>8</th>\n",
       "      <td>silverCup</td>\n",
       "      <td>6.820241</td>\n",
       "      <td>22.231546</td>\n",
       "      <td>3.885407</td>\n",
       "    </tr>\n",
       "    <tr>\n",
       "      <th>9</th>\n",
       "      <td>sing</td>\n",
       "      <td>7.325980</td>\n",
       "      <td>23.493263</td>\n",
       "      <td>4.479619</td>\n",
       "    </tr>\n",
       "    <tr>\n",
       "      <th>10</th>\n",
       "      <td>tilapia</td>\n",
       "      <td>7.828159</td>\n",
       "      <td>19.554582</td>\n",
       "      <td>3.799724</td>\n",
       "    </tr>\n",
       "  </tbody>\n",
       "</table>\n",
       "</div>"
      ],
      "text/plain": [
       "         fish        ph  temperature  turbidity\n",
       "0      karpio  7.236364    19.363636   7.684848\n",
       "1       katla  7.686529    23.184216   3.742779\n",
       "2         koi  6.680913    26.016598   4.616100\n",
       "3       magur  7.236364    25.181818   7.709091\n",
       "4      pangas  8.459932    21.545352   3.687828\n",
       "5       prawn  7.896142    28.899110   6.416202\n",
       "6         rui  7.062020    22.430707   3.749495\n",
       "7      shrimp  7.153596    22.138814   6.829775\n",
       "8   silverCup  6.820241    22.231546   3.885407\n",
       "9        sing  7.325980    23.493263   4.479619\n",
       "10    tilapia  7.828159    19.554582   3.799724"
      ]
     },
     "execution_count": 21,
     "metadata": {},
     "output_type": "execute_result"
    }
   ],
   "source": [
    "train_df[[\"ph\",\"temperature\", \"turbidity\", \"fish\"]].groupby([\"fish\"], as_index = False).mean().sort_values(by=\"fish\",ascending = True)"
   ]
  },
  {
   "cell_type": "markdown",
   "id": "00a14929-4542-40a7-b112-21847cfb2f58",
   "metadata": {
    "panel-layout": {
     "height": 44.0938,
     "visible": true,
     "width": 100
    }
   },
   "source": [
    "### <font color = 'blue'>Aykırı Değerlerin Tespiti (1. Çalışma)"
   ]
  },
  {
   "cell_type": "markdown",
   "id": "46f900f1-c2e0-4544-8b3a-23537434f2e3",
   "metadata": {},
   "source": [
    "Veri analizinin kalitesini arttırmak ve genel veriyi temsil eden bir yaklaşım ortaya koymak adına, alt limit ve üst limit yöntemine dayalı IQR (Interquartile Range, Çeyrekler Arası Genişlik) yöntemi ile veri setimizdeki uç değerler tespit edilerek veri setinden çıkartılmıştır.\n",
    "\n",
    "Q1 ve Q3 veri setinin küçükten büyüğe doğru sıralı değerlerinden hesaplanır. Daha sonrasından alt ve üst limit aşağıdaki formüllerle belirlenir. \n",
    "\n",
    "Formüllerdeki 1,5 katsayısı deneysel bir sabittir, yani bir teoriden ziyade pratik gözlemlere ve kabul görmüş standartlara neticesinde dayanır.\n",
    "\n",
    "Alt limit=Q1-1,5∙IQR\n",
    "\n",
    "Üst limit= Q3+1,5∙IQR\n",
    "\n",
    "Alt ve üst sınır dışında kalan tüm veriler aykırı değer olarak kabul edilir."
   ]
  },
  {
   "cell_type": "markdown",
   "id": "625b319d-56d8-463b-96c3-a32371db7896",
   "metadata": {
    "panel-layout": {
     "height": 43.2031,
     "visible": true,
     "width": 100
    }
   },
   "source": [
    "#### Alt Limitlerin Belirlenmesi (Q1 - 1.5 * IQR)"
   ]
  },
  {
   "cell_type": "code",
   "execution_count": 25,
   "id": "339573f8-a452-414f-bf1e-d75cfd01beb8",
   "metadata": {},
   "outputs": [
    {
     "name": "stdout",
     "output_type": "stream",
     "text": [
      "pH Alt Limit: 5.105\n",
      "Bulaniklik Alt Limit: 2.5199999999999996\n",
      "Sicaklik Alt Limit: 7.5\n"
     ]
    }
   ],
   "source": [
    "lower_limit_ph = np.percentile(train_df[\"ph\"], 25) - \\\n",
    "                (1.5 * (np.percentile(train_df[\"ph\"], 75) - \\\n",
    "                        np.percentile(train_df[\"ph\"], 25)))\n",
    "\n",
    "lower_limit_temperature = np.percentile(train_df[\"temperature\"], 25) - \\\n",
    "                        (1.5 * (np.percentile(train_df[\"temperature\"], 75) - \\\n",
    "                                np.percentile(train_df[\"temperature\"], 25)))\n",
    "\n",
    "lower_limit_turbidity = np.percentile(train_df[\"turbidity\"], 25) - \\\n",
    "                        (1.5 * (np.percentile(train_df[\"turbidity\"], 75) - \\\n",
    "                                np.percentile(train_df[\"turbidity\"], 25)))\n",
    "\n",
    "print(f\"pH Alt Limit: {lower_limit_ph}\")\n",
    "print(f\"Bulaniklik Alt Limit: {lower_limit_turbidity}\")\n",
    "print(f\"Sicaklik Alt Limit: {lower_limit_temperature}\")\n"
   ]
  },
  {
   "cell_type": "markdown",
   "id": "36944c12-7e39-459f-8290-aae0ba3c3a52",
   "metadata": {
    "panel-layout": {
     "height": 43.2031,
     "visible": true,
     "width": 100
    }
   },
   "source": [
    "#### Üst Limitlerin Belirlenmesi (Q3 + 1.5 * IQR)"
   ]
  },
  {
   "cell_type": "code",
   "execution_count": 27,
   "id": "6929f72e-8739-4405-8002-afe824a6c29d",
   "metadata": {},
   "outputs": [
    {
     "name": "stdout",
     "output_type": "stream",
     "text": [
      "pH Ust Limit: 10.024999999999999\n",
      "Bulaniklik Ust Limit: 5.08\n",
      "Sicaklik Ust Limit: 35.5\n"
     ]
    }
   ],
   "source": [
    "upper_limit_ph = np.percentile(train_df[\"ph\"], 75) + \\\n",
    "                 (1.5 * (np.percentile(train_df[\"ph\"], 75) - \\\n",
    "                         np.percentile(train_df[\"ph\"], 25)))\n",
    "\n",
    "upper_limit_turbidity = np.percentile(train_df[\"turbidity\"], 75) + \\\n",
    "                        (1.5 * (np.percentile(train_df[\"turbidity\"], 75) - \\\n",
    "                                np.percentile(train_df[\"turbidity\"], 25)))\n",
    "\n",
    "upper_limit_temperature = np.percentile(train_df[\"temperature\"], 75) + \\\n",
    "                          (1.5 * (np.percentile(train_df[\"temperature\"], 75) - \\\n",
    "                                  np.percentile(train_df[\"temperature\"], 25)))\n",
    "\n",
    "print(f\"pH Ust Limit: {upper_limit_ph}\")\n",
    "print(f\"Bulaniklik Ust Limit: {upper_limit_turbidity}\")\n",
    "print(f\"Sicaklik Ust Limit: {upper_limit_temperature}\")"
   ]
  },
  {
   "attachments": {},
   "cell_type": "markdown",
   "id": "efd6e840-d3be-451b-b618-4a3579a8a234",
   "metadata": {},
   "source": [
    "<img src=\"iqr.png\" alt=\"Logo\" style=\"display:block; margin-left:auto; margin-right:auto;\">"
   ]
  },
  {
   "cell_type": "markdown",
   "id": "6edb2c9d-71bc-4bb8-8385-e3b2a84daca7",
   "metadata": {
    "panel-layout": {
     "height": 43.2031,
     "visible": true,
     "width": 100
    }
   },
   "source": [
    "#### Aykırı Değerlerin Veri Setinden Çıkartılması (1. Çalışma)"
   ]
  },
  {
   "cell_type": "code",
   "execution_count": 30,
   "id": "b8709adb-90eb-4d8f-9acf-7722acd35792",
   "metadata": {},
   "outputs": [
    {
     "name": "stdout",
     "output_type": "stream",
     "text": [
      "pH icin aykiri deger adedi: 0\n",
      "Bulaniklik icin aykiri deger adedi: 8458\n",
      "Sicaklik icin aykiri deger adedi: 256\n",
      "Kaldirilan aykiri degerlerin toplam adedi: 8522\n"
     ]
    }
   ],
   "source": [
    "#pH icin aykiri degerler\n",
    "outliers_ph = train_df.loc[(train_df[\"ph\"] < lower_limit_ph) | (train_df[\"ph\"] > upper_limit_ph)]\n",
    "print(f\"pH icin aykiri deger adedi: {len(outliers_ph)}\")\n",
    "\n",
    "#bulaniklik icin aykiri degerler\n",
    "outliers_turbidity = train_df.loc[(train_df[\"turbidity\"] < lower_limit_turbidity) | (train_df[\"turbidity\"] > upper_limit_turbidity)]\n",
    "print(f\"Bulaniklik icin aykiri deger adedi: {len(outliers_turbidity)}\")\n",
    "\n",
    "#sicaklik icin aykiri degerler\n",
    "outliers_temperature = train_df.loc[(train_df[\"temperature\"] < lower_limit_temperature) | (train_df[\"temperature\"] > upper_limit_temperature)]\n",
    "print(f\"Sicaklik icin aykiri deger adedi: {len(outliers_temperature)}\")\n",
    "\n",
    "#veri setinden cikar\n",
    "original_count = len(train_df)\n",
    "train_df = train_df.loc[\n",
    "    (train_df[\"ph\"] >= lower_limit_ph) & \n",
    "    (train_df[\"ph\"] <= upper_limit_ph) &\n",
    "    (train_df[\"temperature\"] >= lower_limit_temperature) & \n",
    "    (train_df[\"temperature\"] <= upper_limit_temperature) &\n",
    "    (train_df[\"turbidity\"] >= lower_limit_turbidity) & \n",
    "    (train_df[\"turbidity\"] <= upper_limit_turbidity)]\n",
    "\n",
    "filtered_count = len(train_df)\n",
    "outlier_count = original_count - filtered_count\n",
    "print(f\"Kaldirilan aykiri degerlerin toplam adedi: {outlier_count}\")"
   ]
  },
  {
   "cell_type": "markdown",
   "id": "ff5e062f-e2de-4261-8d9f-fa5e11f72c21",
   "metadata": {
    "panel-layout": {
     "height": 43.2031,
     "visible": true,
     "width": 100
    }
   },
   "source": [
    "Aykırı değerlerin veri setinden çıkartılması ile ilgili yaptığımız 1. çalışma sonucunda veri setimizin son durumu ve kategorik verilerin grafiği şu şekildedir;"
   ]
  },
  {
   "cell_type": "code",
   "execution_count": 32,
   "id": "41cee013-0a7d-4f9b-a0c1-35fd17d76366",
   "metadata": {
    "panel-layout": {
     "height": 730,
     "visible": true,
     "width": 100
    }
   },
   "outputs": [
    {
     "name": "stdout",
     "output_type": "stream",
     "text": [
      "<class 'pandas.core.frame.DataFrame'>\n",
      "Index: 31758 entries, 0 to 40279\n",
      "Data columns (total 4 columns):\n",
      " #   Column       Non-Null Count  Dtype  \n",
      "---  ------       --------------  -----  \n",
      " 0   ph           31758 non-null  float64\n",
      " 1   temperature  31758 non-null  float64\n",
      " 2   turbidity    31758 non-null  float64\n",
      " 3   fish         31758 non-null  object \n",
      "dtypes: float64(3), object(1)\n",
      "memory usage: 1.2+ MB\n"
     ]
    }
   ],
   "source": [
    "train_df.info()"
   ]
  },
  {
   "cell_type": "code",
   "execution_count": 33,
   "id": "c77dddcc-487d-49e7-aca7-f671f581caeb",
   "metadata": {
    "panel-layout": {
     "height": 730,
     "visible": true,
     "width": 100
    }
   },
   "outputs": [
    {
     "data": {
      "image/png": "[encoded data removed]",
      "text/plain": [
       "<Figure size 1200x600 with 1 Axes>"
      ]
     },
     "metadata": {},
     "output_type": "display_data"
    }
   ],
   "source": [
    "bar_plot(\"fish\")"
   ]
  },
  {
   "cell_type": "markdown",
   "id": "a32a2b3a-d097-426b-9a1b-b28f60129249",
   "metadata": {
    "panel-layout": {
     "height": 51.140625,
     "visible": true,
     "width": 100
    }
   },
   "source": [
    "Veri setimizin son halinde karpio ve magur türü artık yer almamaktadır, toplam balık türümüz 9’a düşmüştür."
   ]
  },
  {
   "cell_type": "markdown",
   "id": "eebd300c-364e-431e-befc-9cbe5aa6d784",
   "metadata": {},
   "source": [
    "### Görselleştirme"
   ]
  },
  {
   "cell_type": "markdown",
   "id": "fb900f24-7fbc-49d8-914b-af5b8596ba80",
   "metadata": {
    "panel-layout": {
     "height": 43.2031,
     "visible": true,
     "width": 100
    }
   },
   "source": [
    "#### pH Değerlerinin Balık Türlerine Göre Dağılımı"
   ]
  },
  {
   "cell_type": "code",
   "execution_count": 37,
   "id": "26813b3d-d26a-48e4-a180-39ceea37e5d0",
   "metadata": {
    "panel-layout": {
     "height": 730,
     "visible": true,
     "width": 100
    }
   },
   "outputs": [
    {
     "data": {
      "image/png": "[encoded data removed]",
      "text/plain": [
       "<Figure size 1200x600 with 1 Axes>"
      ]
     },
     "metadata": {},
     "output_type": "display_data"
    }
   ],
   "source": [
    "plt.figure(figsize=(12, 6))\n",
    "sns.boxplot(x='fish', y='ph', data=train_df, palette='coolwarm')\n",
    "plt.title(\"pH Degerlerinin Balik Turlerine Gore Dagilimi\")\n",
    "plt.xlabel(\"\")\n",
    "plt.ylabel(\"pH\")\n",
    "plt.show()"
   ]
  },
  {
   "cell_type": "markdown",
   "id": "9df1d7d0-6876-4389-81d6-9db250725928",
   "metadata": {
    "panel-layout": {
     "height": 43.2031,
     "visible": true,
     "width": 100
    }
   },
   "source": [
    "#### Bulanıklık Değerlerinin Balık Türlerine Göre Dağılımı"
   ]
  },
  {
   "cell_type": "code",
   "execution_count": 39,
   "id": "95df01e7-5d87-4530-adbd-b924614967c8",
   "metadata": {
    "panel-layout": {
     "height": 730,
     "visible": true,
     "width": 100
    }
   },
   "outputs": [
    {
     "data": {
      "image/png": "[encoded data removed]",
      "text/plain": [
       "<Figure size 1200x600 with 1 Axes>"
      ]
     },
     "metadata": {},
     "output_type": "display_data"
    }
   ],
   "source": [
    "plt.figure(figsize=(12, 6))\n",
    "sns.boxplot(x='fish', y='turbidity', data=train_df, palette='coolwarm')\n",
    "plt.title(\"Bulaniklik Degerlerinin Balik Turlerine Gore Dagilimi\")\n",
    "plt.xlabel(\"\")\n",
    "plt.ylabel(\"NTU\")\n",
    "plt.show()"
   ]
  },
  {
   "cell_type": "markdown",
   "id": "d0a70756-279a-4f71-920d-0ccf7369d04b",
   "metadata": {
    "panel-layout": {
     "height": 43.2031,
     "visible": true,
     "width": 100
    }
   },
   "source": [
    "#### Sıcaklık Değerlerinin Balık Türlerine Göre Dağılımı"
   ]
  },
  {
   "cell_type": "code",
   "execution_count": 41,
   "id": "2fdd7700-6f9d-421c-894e-82cc2d5d24ed",
   "metadata": {
    "panel-layout": {
     "height": 730,
     "visible": true,
     "width": 100
    }
   },
   "outputs": [
    {
     "data": {
      "image/png": "[encoded data removed]",
      "text/plain": [
       "<Figure size 1200x600 with 1 Axes>"
      ]
     },
     "metadata": {},
     "output_type": "display_data"
    }
   ],
   "source": [
    "plt.figure(figsize=(12, 6))\n",
    "sns.boxplot(x='fish', y='temperature', data=train_df, palette='coolwarm')\n",
    "plt.title(\"Sicaklik Degerlerinin Balik Turlerine Gore Dagilimi\")\n",
    "plt.xlabel(\"\")\n",
    "plt.ylabel(\"℃\")\n",
    "plt.show()"
   ]
  },
  {
   "cell_type": "markdown",
   "id": "38104bf3-bdf9-4b58-86a3-6d54c85c2ec4",
   "metadata": {},
   "source": [
    "#### Aykırı Değerlerin Tespiti (2. Çalışma)"
   ]
  },
  {
   "cell_type": "markdown",
   "id": "e394e0fc-b135-4f5f-99fd-9f29f403d02c",
   "metadata": {},
   "source": [
    "#### Balık Türlerine Göre Alt Limitlerin Belirlenmesi (Q1 - 1.5 * IQR)"
   ]
  },
  {
   "cell_type": "code",
   "execution_count": 44,
   "id": "bb692b33-d07e-40ab-8663-548945b31793",
   "metadata": {},
   "outputs": [
    {
     "name": "stdout",
     "output_type": "stream",
     "text": [
      "  Balik Turu  pH Alt Limiti  Bulaniklik Alt Limiti  Sicaklik Alt Limiti\n",
      "0      katla        6.61500                  3.595              20.8750\n",
      "1        rui        4.95000                  3.205              20.9100\n",
      "2        koi        3.60000                  3.830              18.5000\n",
      "3     pangas        8.36500                  3.430              17.8500\n",
      "4    tilapia        6.90500                  3.410              17.0275\n",
      "5      prawn        7.65000                  3.835              25.0000\n",
      "6  silverCup        4.36500                  3.545              20.9400\n",
      "7     shrimp        6.47000                  3.595              21.1000\n",
      "8       sing        5.69375                  3.545              20.8650\n"
     ]
    }
   ],
   "source": [
    "# Alt limit değerlerini belirlemek için bir fonksiyon\n",
    "def calculate_lower_limits(df, variable):\n",
    "    lower_limits = {}\n",
    "    for fish_type in df[\"fish\"].unique():\n",
    "        species_data = df[df[\"fish\"] == fish_type]\n",
    "        lower_limit = np.percentile(species_data[variable], 25) - 1.5 * (\n",
    "            np.percentile(species_data[variable], 75) - np.percentile(species_data[variable], 25)\n",
    "        )\n",
    "        lower_limits[fish_type] = lower_limit\n",
    "    return lower_limits\n",
    "\n",
    "# pH, bulanıklık ve sıcaklık için alt limitleri hesaplama\n",
    "ph_lower_limits = calculate_lower_limits(train_df, \"ph\")\n",
    "turbidity_lower_limits = calculate_lower_limits(train_df, \"turbidity\")\n",
    "temperature_lower_limits = calculate_lower_limits(train_df, \"temperature\")\n",
    "\n",
    "# Alt limitleri bir tabloya dönüştürme\n",
    "lower_limits_df = pd.DataFrame({\n",
    "    \"Balik Turu\": train_df[\"fish\"].unique(),\n",
    "    \"pH Alt Limiti\": [ph_lower_limits[fish] for fish in train_df[\"fish\"].unique()],\n",
    "    \"Bulaniklik Alt Limiti\": [turbidity_lower_limits[fish] for fish in train_df[\"fish\"].unique()],\n",
    "    \"Sicaklik Alt Limiti\": [temperature_lower_limits[fish] for fish in train_df[\"fish\"].unique()]\n",
    "})\n",
    "\n",
    "# Alt limit sonuçlarını yazdırma\n",
    "print(lower_limits_df)"
   ]
  },
  {
   "cell_type": "markdown",
   "id": "020beaad-2834-4129-a788-9b8315848de3",
   "metadata": {},
   "source": [
    "#### Balık Türlerine Göre Üst Limitlerin Belirlenmesi (Q1 + 1.5 * IQR)"
   ]
  },
  {
   "cell_type": "code",
   "execution_count": 46,
   "id": "8c0f5496-aadf-445b-99e7-099ff8335a9f",
   "metadata": {},
   "outputs": [
    {
     "name": "stdout",
     "output_type": "stream",
     "text": [
      "  Balik Turu  pH Ust Limiti  Bulaniklik Ust Limiti  Sicaklik Ust Limiti\n",
      "0      katla        8.97500                  3.635              21.8750\n",
      "1        rui        9.03000                  3.645              21.1500\n",
      "2        koi       10.00000                  4.310              38.5000\n",
      "3     pangas        9.04500                  3.510              18.0900\n",
      "4    tilapia        9.26500                  3.650              18.4875\n",
      "5      prawn        8.05000                  4.275              33.0000\n",
      "6  silverCup        8.96500                  3.585              21.3400\n",
      "7     shrimp        7.35000                  3.635              21.3400\n",
      "8       sing        8.88375                  3.585              21.3850\n"
     ]
    }
   ],
   "source": [
    "# Üst limit değerlerini belirlemek için bir fonksiyon yazalım\n",
    "def calculate_upper_limits(df, variable):\n",
    "    upper_limits = {}\n",
    "    for fish_type in df[\"fish\"].unique():\n",
    "        species_data = df[df[\"fish\"] == fish_type]\n",
    "        upper_limit = np.percentile(species_data[variable], 75) + 1.5 * (\n",
    "            np.percentile(species_data[variable], 75) - np.percentile(species_data[variable], 25)\n",
    "        )\n",
    "        upper_limits[fish_type] = upper_limit\n",
    "    return upper_limits\n",
    "\n",
    "# pH, bulanıklık ve sıcaklık için üst limitleri hesaplama\n",
    "ph_upper_limits = calculate_upper_limits(train_df, \"ph\")\n",
    "turbidity_upper_limits = calculate_upper_limits(train_df, \"turbidity\")\n",
    "temperature_upper_limits = calculate_upper_limits(train_df, \"temperature\")\n",
    "\n",
    "# Üst limitleri bir tabloya dönüştürme\n",
    "upper_limits_df = pd.DataFrame({\n",
    "    \"Balik Turu\": train_df[\"fish\"].unique(),\n",
    "    \"pH Ust Limiti\": [ph_upper_limits[fish] for fish in train_df[\"fish\"].unique()],\n",
    "    \"Bulaniklik Ust Limiti\": [turbidity_upper_limits[fish] for fish in train_df[\"fish\"].unique()],\n",
    "    \"Sicaklik Ust Limiti\": [temperature_upper_limits[fish] for fish in train_df[\"fish\"].unique()]\n",
    "})\n",
    "\n",
    "# Alt limit sonuçlarını yazdırma\n",
    "print(upper_limits_df)"
   ]
  },
  {
   "cell_type": "markdown",
   "id": "07d57824-ec95-4923-a8b9-e9ecba0c3366",
   "metadata": {},
   "source": [
    "#### Aykırı Değerlerin Çıkartılması (2. Çalışma)"
   ]
  },
  {
   "cell_type": "code",
   "execution_count": 48,
   "id": "673a6845-7198-4869-8065-0659259171b4",
   "metadata": {},
   "outputs": [
    {
     "name": "stdout",
     "output_type": "stream",
     "text": [
      "pH icin aykiri deger adedi: 2366\n",
      "Bulaniklik icin aykiri deger adedi: 4166\n",
      "Sicaklik icin aykiri deger adedi: 6342\n",
      "Kaldirilan aykiri degerlerin toplam adedi: 7110\n"
     ]
    }
   ],
   "source": [
    "# Aykırı değer tespiti fonksiyonu\n",
    "def is_outlier(row, variable, lower_limits, upper_limits):\n",
    "    return (row[variable] < lower_limits[row[\"fish\"]]) or (row[variable] > upper_limits[row[\"fish\"]])\n",
    "\n",
    "# pH için aykırı değerler\n",
    "outliers_ph = train_df[train_df.apply(lambda row: is_outlier(row, \"ph\", ph_lower_limits, ph_upper_limits), axis=1)]\n",
    "print(f\"pH icin aykiri deger adedi: {len(outliers_ph)}\")\n",
    "\n",
    "# Bulanıklık için aykırı değerler\n",
    "outliers_turbidity = train_df[train_df.apply(lambda row: is_outlier(row, \"turbidity\", turbidity_lower_limits, turbidity_upper_limits), axis=1)]\n",
    "print(f\"Bulaniklik icin aykiri deger adedi: {len(outliers_turbidity)}\")\n",
    "\n",
    "# Sıcaklık için aykırı değerler\n",
    "outliers_temperature = train_df[train_df.apply(lambda row: is_outlier(row, \"temperature\", temperature_lower_limits, temperature_upper_limits), axis=1)]\n",
    "print(f\"Sicaklik icin aykiri deger adedi: {len(outliers_temperature)}\")\n",
    "\n",
    "# Aykırı değerleri veri setinden çıkarma\n",
    "original_count = len(train_df)\n",
    "train_df = train_df[\n",
    "    ~train_df.apply(lambda row: is_outlier(row, \"ph\", ph_lower_limits, ph_upper_limits), axis=1) &\n",
    "    ~train_df.apply(lambda row: is_outlier(row, \"turbidity\", turbidity_lower_limits, turbidity_upper_limits), axis=1) &\n",
    "    ~train_df.apply(lambda row: is_outlier(row, \"temperature\", temperature_lower_limits, temperature_upper_limits), axis=1)\n",
    "]\n",
    "\n",
    "filtered_count = len(train_df)\n",
    "outlier_count = original_count - filtered_count\n",
    "print(f\"Kaldirilan aykiri degerlerin toplam adedi: {outlier_count}\")\n"
   ]
  },
  {
   "cell_type": "markdown",
   "id": "6923f897-cd3e-4e19-a00a-fa72eeca3e5f",
   "metadata": {},
   "source": [
    "#### Veri Setimizin Son Hali"
   ]
  },
  {
   "cell_type": "code",
   "execution_count": 50,
   "id": "5cd6138f-db8d-49c8-82b2-cac3daa3820e",
   "metadata": {},
   "outputs": [
    {
     "name": "stdout",
     "output_type": "stream",
     "text": [
      "<class 'pandas.core.frame.DataFrame'>\n",
      "Index: 24648 entries, 57 to 40278\n",
      "Data columns (total 4 columns):\n",
      " #   Column       Non-Null Count  Dtype  \n",
      "---  ------       --------------  -----  \n",
      " 0   ph           24648 non-null  float64\n",
      " 1   temperature  24648 non-null  float64\n",
      " 2   turbidity    24648 non-null  float64\n",
      " 3   fish         24648 non-null  object \n",
      "dtypes: float64(3), object(1)\n",
      "memory usage: 962.8+ KB\n"
     ]
    }
   ],
   "source": [
    "train_df.info()"
   ]
  },
  {
   "cell_type": "code",
   "execution_count": 51,
   "id": "7aecf338-5985-4953-bf44-2dca10293fee",
   "metadata": {},
   "outputs": [
    {
     "data": {
      "image/png": "[encoded data removed]",
      "text/plain": [
       "<Figure size 1200x600 with 1 Axes>"
      ]
     },
     "metadata": {},
     "output_type": "display_data"
    }
   ],
   "source": [
    "bar_plot(\"fish\")"
   ]
  },
  {
   "cell_type": "markdown",
   "id": "3003dd3c-cb1f-40ec-b9f7-61b6d14f3391",
   "metadata": {
    "panel-layout": {
     "height": 43.2031,
     "visible": true,
     "width": 100
    }
   },
   "source": [
    "#### Sayısal Verilerin Korelasyonu"
   ]
  },
  {
   "cell_type": "code",
   "execution_count": 53,
   "id": "16880b31-9c3c-4cb6-8f43-2e5e6c1da10b",
   "metadata": {
    "panel-layout": {
     "height": 730,
     "visible": true,
     "width": 100
    }
   },
   "outputs": [
    {
     "data": {
      "image/png": "[encoded data removed]",
      "text/plain": [
       "<Figure size 640x480 with 1 Axes>"
      ]
     },
     "metadata": {},
     "output_type": "display_data"
    }
   ],
   "source": [
    "list1 = [\"ph\", \"turbidity\", \"temperature\"]\n",
    "sns.heatmap(train_df[list1].corr(), annot = True, fmt=\".2f\", cbar=False)\n",
    "plt.show() "
   ]
  },
  {
   "cell_type": "markdown",
   "id": "1f37025c-ee2f-47a4-9cd3-f31cbbbd0202",
   "metadata": {
    "panel-layout": {
     "height": 109.422,
     "visible": true,
     "width": 100
    }
   },
   "source": [
    "pH – bulanıklık (-0.14)\n",
    "Zayıf ve negatif bir ilişki söz konusudur. Doğrudan birbirlerini etkiledikleri söylenemez.\n",
    "\n",
    "pH – sıcaklık (-0.58)\n",
    "Orta düzey ve negatif ilişki söz konusudur. Sıcaklık arttıkça pH değerinin genellikle azaldığını veya tersi bir ilişki olduğunu göstermektedir.\n",
    "\n",
    "Bulanık – sıcaklık (0.63)\n",
    "Güçlü ve pozitif bir ilişki söz konusudur. Sıcaklık artışının sudaki mikroorganizma artışına sebep olarak bulanıklığı arttırdığı söylenebilir."
   ]
  },
  {
   "cell_type": "markdown",
   "id": "2303ae09-e665-4af6-b606-3676cf674d8d",
   "metadata": {
    "panel-layout": {
     "height": 44.0938,
     "visible": true,
     "width": 100
    }
   },
   "source": [
    "### <font color = 'red'> VERİ MODELLEME"
   ]
  },
  {
   "cell_type": "markdown",
   "id": "5e74cde3-77ef-4c68-a956-f5dfccc5ec2a",
   "metadata": {
    "panel-layout": {
     "height": 43.2031,
     "visible": true,
     "width": 100
    }
   },
   "source": [
    "#### Kullanılan Python Kütüphaneleri"
   ]
  },
  {
   "cell_type": "code",
   "execution_count": 57,
   "id": "9dc0e428-674c-4677-b526-2b539687decb",
   "metadata": {},
   "outputs": [],
   "source": [
    "# Veri setini egitim ve test olarak ayirmak icin\n",
    "from sklearn.model_selection import train_test_split, GridSearchCV  \n",
    "\n",
    "# Lojistik regresyon modeli icin\n",
    "from sklearn.linear_model import LogisticRegression  \n",
    "\n",
    "# Karar agaci modeli icin\n",
    "from sklearn.tree import DecisionTreeClassifier, plot_tree, export_text\n",
    "\n",
    "# K-En Yakın Komsu (KNN) modeli icin\n",
    "from sklearn.neighbors import KNeighborsClassifier  \n",
    "\n",
    "# Random Forest modeli icin\n",
    "from sklearn.ensemble import RandomForestClassifier\n",
    "\n",
    "# Model performansini olcmek icin\n",
    "from sklearn.metrics import accuracy_score, confusion_matrix"
   ]
  },
  {
   "cell_type": "markdown",
   "id": "67d865ed-627b-4c19-9858-6e5620e0db88",
   "metadata": {
    "panel-layout": {
     "height": 43.2031,
     "visible": true,
     "width": 100
    }
   },
   "source": [
    "#### Veri Setinin Eğitim ve Test Olarak Ayrılması"
   ]
  },
  {
   "cell_type": "code",
   "execution_count": 59,
   "id": "977313aa-8033-45c3-97a8-32f63d20797d",
   "metadata": {},
   "outputs": [
    {
     "name": "stdout",
     "output_type": "stream",
     "text": [
      "X_train: (16514, 3)\n",
      "X_test: (8134, 3)\n",
      "y_train: (16514,)\n",
      "y_test: (8134,)\n"
     ]
    }
   ],
   "source": [
    "# Bağımsız değişkenler (X) ve bağımlı değişken (y)\n",
    "X = train_df[[\"ph\", \"turbidity\", \"temperature\"]]  # Sadece mevcut sayısal sütunları kullanıyoruz\n",
    "y = train_df[\"fish\"]  # Balık türlerini hedef değişken olarak seçiyoruz\n",
    "\n",
    "# Train-Test Split\n",
    "X_train, X_test, y_train, y_test = train_test_split(X, y, test_size=0.33, random_state=42)\n",
    "\n",
    "print(\"X_train:\", X_train.shape)\n",
    "print(\"X_test:\", X_test.shape)\n",
    "print(\"y_train:\", y_train.shape)\n",
    "print(\"y_test:\", y_test.shape)"
   ]
  },
  {
   "cell_type": "markdown",
   "id": "0ffc0026-bf71-4a8a-9d3d-ea234d97cc3e",
   "metadata": {
    "panel-layout": {
     "height": 43.2031,
     "visible": true,
     "width": 100
    }
   },
   "source": [
    "#### <font color = 'RED'> 1) Simple Logistic Regression - SLR"
   ]
  },
  {
   "cell_type": "markdown",
   "id": "6238a6b7-0c4b-480e-96ab-ae7181c6307c",
   "metadata": {
    "panel-layout": {
     "height": 43.203125,
     "visible": true,
     "width": 100
    }
   },
   "source": [
    "#### Modeli Oluştur ve Eğit"
   ]
  },
  {
   "cell_type": "code",
   "execution_count": 62,
   "id": "5e9f098c-4695-458d-925f-b768005c8145",
   "metadata": {
    "panel-layout": {
     "height": 1375.0625,
     "visible": true,
     "width": 100
    }
   },
   "outputs": [
    {
     "data": {
      "text/html": [
       "<style>#sk-container-id-1 {\n",
       "  /* Definition of color scheme common for light and dark mode */\n",
       "  --sklearn-color-text: black;\n",
       "  --sklearn-color-line: gray;\n",
       "  /* Definition of color scheme for unfitted estimators */\n",
       "  --sklearn-color-unfitted-level-0: #fff5e6;\n",
       "  --sklearn-color-unfitted-level-1: #f6e4d2;\n",
       "  --sklearn-color-unfitted-level-2: #ffe0b3;\n",
       "  --sklearn-color-unfitted-level-3: chocolate;\n",
       "  /* Definition of color scheme for fitted estimators */\n",
       "  --sklearn-color-fitted-level-0: #f0f8ff;\n",
       "  --sklearn-color-fitted-level-1: #d4ebff;\n",
       "  --sklearn-color-fitted-level-2: #b3dbfd;\n",
       "  --sklearn-color-fitted-level-3: cornflowerblue;\n",
       "\n",
       "  /* Specific color for light theme */\n",
       "  --sklearn-color-text-on-default-background: var(--sg-text-color, var(--theme-code-foreground, var(--jp-content-font-color1, black)));\n",
       "  --sklearn-color-background: var(--sg-background-color, var(--theme-background, var(--jp-layout-color0, white)));\n",
       "  --sklearn-color-border-box: var(--sg-text-color, var(--theme-code-foreground, var(--jp-content-font-color1, black)));\n",
       "  --sklearn-color-icon: #696969;\n",
       "\n",
       "  @media (prefers-color-scheme: dark) {\n",
       "    /* Redefinition of color scheme for dark theme */\n",
       "    --sklearn-color-text-on-default-background: var(--sg-text-color, var(--theme-code-foreground, var(--jp-content-font-color1, white)));\n",
       "    --sklearn-color-background: var(--sg-background-color, var(--theme-background, var(--jp-layout-color0, #111)));\n",
       "    --sklearn-color-border-box: var(--sg-text-color, var(--theme-code-foreground, var(--jp-content-font-color1, white)));\n",
       "    --sklearn-color-icon: #878787;\n",
       "  }\n",
       "}\n",
       "\n",
       "#sk-container-id-1 {\n",
       "  color: var(--sklearn-color-text);\n",
       "}\n",
       "\n",
       "#sk-container-id-1 pre {\n",
       "  padding: 0;\n",
       "}\n",
       "\n",
       "#sk-container-id-1 input.sk-hidden--visually {\n",
       "  border: 0;\n",
       "  clip: rect(1px 1px 1px 1px);\n",
       "  clip: rect(1px, 1px, 1px, 1px);\n",
       "  height: 1px;\n",
       "  margin: -1px;\n",
       "  overflow: hidden;\n",
       "  padding: 0;\n",
       "  position: absolute;\n",
       "  width: 1px;\n",
       "}\n",
       "\n",
       "#sk-container-id-1 div.sk-dashed-wrapped {\n",
       "  border: 1px dashed var(--sklearn-color-line);\n",
       "  margin: 0 0.4em 0.5em 0.4em;\n",
       "  box-sizing: border-box;\n",
       "  padding-bottom: 0.4em;\n",
       "  background-color: var(--sklearn-color-background);\n",
       "}\n",
       "\n",
       "#sk-container-id-1 div.sk-container {\n",
       "  /* jupyter's `normalize.less` sets `[hidden] { display: none; }`\n",
       "     but bootstrap.min.css set `[hidden] { display: none !important; }`\n",
       "     so we also need the `!important` here to be able to override the\n",
       "     default hidden behavior on the sphinx rendered scikit-learn.org.\n",
       "     See: https://github.com/scikit-learn/scikit-learn/issues/21755 */\n",
       "  display: inline-block !important;\n",
       "  position: relative;\n",
       "}\n",
       "\n",
       "#sk-container-id-1 div.sk-text-repr-fallback {\n",
       "  display: none;\n",
       "}\n",
       "\n",
       "div.sk-parallel-item,\n",
       "div.sk-serial,\n",
       "div.sk-item {\n",
       "  /* draw centered vertical line to link estimators */\n",
       "  background-image: linear-gradient(var(--sklearn-color-text-on-default-background), var(--sklearn-color-text-on-default-background));\n",
       "  background-size: 2px 100%;\n",
       "  background-repeat: no-repeat;\n",
       "  background-position: center center;\n",
       "}\n",
       "\n",
       "/* Parallel-specific style estimator block */\n",
       "\n",
       "#sk-container-id-1 div.sk-parallel-item::after {\n",
       "  content: \"\";\n",
       "  width: 100%;\n",
       "  border-bottom: 2px solid var(--sklearn-color-text-on-default-background);\n",
       "  flex-grow: 1;\n",
       "}\n",
       "\n",
       "#sk-container-id-1 div.sk-parallel {\n",
       "  display: flex;\n",
       "  align-items: stretch;\n",
       "  justify-content: center;\n",
       "  background-color: var(--sklearn-color-background);\n",
       "  position: relative;\n",
       "}\n",
       "\n",
       "#sk-container-id-1 div.sk-parallel-item {\n",
       "  display: flex;\n",
       "  flex-direction: column;\n",
       "}\n",
       "\n",
       "#sk-container-id-1 div.sk-parallel-item:first-child::after {\n",
       "  align-self: flex-end;\n",
       "  width: 50%;\n",
       "}\n",
       "\n",
       "#sk-container-id-1 div.sk-parallel-item:last-child::after {\n",
       "  align-self: flex-start;\n",
       "  width: 50%;\n",
       "}\n",
       "\n",
       "#sk-container-id-1 div.sk-parallel-item:only-child::after {\n",
       "  width: 0;\n",
       "}\n",
       "\n",
       "/* Serial-specific style estimator block */\n",
       "\n",
       "#sk-container-id-1 div.sk-serial {\n",
       "  display: flex;\n",
       "  flex-direction: column;\n",
       "  align-items: center;\n",
       "  background-color: var(--sklearn-color-background);\n",
       "  padding-right: 1em;\n",
       "  padding-left: 1em;\n",
       "}\n",
       "\n",
       "\n",
       "/* Toggleable style: style used for estimator/Pipeline/ColumnTransformer box that is\n",
       "clickable and can be expanded/collapsed.\n",
       "- Pipeline and ColumnTransformer use this feature and define the default style\n",
       "- Estimators will overwrite some part of the style using the `sk-estimator` class\n",
       "*/\n",
       "\n",
       "/* Pipeline and ColumnTransformer style (default) */\n",
       "\n",
       "#sk-container-id-1 div.sk-toggleable {\n",
       "  /* Default theme specific background. It is overwritten whether we have a\n",
       "  specific estimator or a Pipeline/ColumnTransformer */\n",
       "  background-color: var(--sklearn-color-background);\n",
       "}\n",
       "\n",
       "/* Toggleable label */\n",
       "#sk-container-id-1 label.sk-toggleable__label {\n",
       "  cursor: pointer;\n",
       "  display: block;\n",
       "  width: 100%;\n",
       "  margin-bottom: 0;\n",
       "  padding: 0.5em;\n",
       "  box-sizing: border-box;\n",
       "  text-align: center;\n",
       "}\n",
       "\n",
       "#sk-container-id-1 label.sk-toggleable__label-arrow:before {\n",
       "  /* Arrow on the left of the label */\n",
       "  content: \"▸\";\n",
       "  float: left;\n",
       "  margin-right: 0.25em;\n",
       "  color: var(--sklearn-color-icon);\n",
       "}\n",
       "\n",
       "#sk-container-id-1 label.sk-toggleable__label-arrow:hover:before {\n",
       "  color: var(--sklearn-color-text);\n",
       "}\n",
       "\n",
       "/* Toggleable content - dropdown */\n",
       "\n",
       "#sk-container-id-1 div.sk-toggleable__content {\n",
       "  max-height: 0;\n",
       "  max-width: 0;\n",
       "  overflow: hidden;\n",
       "  text-align: left;\n",
       "  /* unfitted */\n",
       "  background-color: var(--sklearn-color-unfitted-level-0);\n",
       "}\n",
       "\n",
       "#sk-container-id-1 div.sk-toggleable__content.fitted {\n",
       "  /* fitted */\n",
       "  background-color: var(--sklearn-color-fitted-level-0);\n",
       "}\n",
       "\n",
       "#sk-container-id-1 div.sk-toggleable__content pre {\n",
       "  margin: 0.2em;\n",
       "  border-radius: 0.25em;\n",
       "  color: var(--sklearn-color-text);\n",
       "  /* unfitted */\n",
       "  background-color: var(--sklearn-color-unfitted-level-0);\n",
       "}\n",
       "\n",
       "#sk-container-id-1 div.sk-toggleable__content.fitted pre {\n",
       "  /* unfitted */\n",
       "  background-color: var(--sklearn-color-fitted-level-0);\n",
       "}\n",
       "\n",
       "#sk-container-id-1 input.sk-toggleable__control:checked~div.sk-toggleable__content {\n",
       "  /* Expand drop-down */\n",
       "  max-height: 200px;\n",
       "  max-width: 100%;\n",
       "  overflow: auto;\n",
       "}\n",
       "\n",
       "#sk-container-id-1 input.sk-toggleable__control:checked~label.sk-toggleable__label-arrow:before {\n",
       "  content: \"▾\";\n",
       "}\n",
       "\n",
       "/* Pipeline/ColumnTransformer-specific style */\n",
       "\n",
       "#sk-container-id-1 div.sk-label input.sk-toggleable__control:checked~label.sk-toggleable__label {\n",
       "  color: var(--sklearn-color-text);\n",
       "  background-color: var(--sklearn-color-unfitted-level-2);\n",
       "}\n",
       "\n",
       "#sk-container-id-1 div.sk-label.fitted input.sk-toggleable__control:checked~label.sk-toggleable__label {\n",
       "  background-color: var(--sklearn-color-fitted-level-2);\n",
       "}\n",
       "\n",
       "/* Estimator-specific style */\n",
       "\n",
       "/* Colorize estimator box */\n",
       "#sk-container-id-1 div.sk-estimator input.sk-toggleable__control:checked~label.sk-toggleable__label {\n",
       "  /* unfitted */\n",
       "  background-color: var(--sklearn-color-unfitted-level-2);\n",
       "}\n",
       "\n",
       "#sk-container-id-1 div.sk-estimator.fitted input.sk-toggleable__control:checked~label.sk-toggleable__label {\n",
       "  /* fitted */\n",
       "  background-color: var(--sklearn-color-fitted-level-2);\n",
       "}\n",
       "\n",
       "#sk-container-id-1 div.sk-label label.sk-toggleable__label,\n",
       "#sk-container-id-1 div.sk-label label {\n",
       "  /* The background is the default theme color */\n",
       "  color: var(--sklearn-color-text-on-default-background);\n",
       "}\n",
       "\n",
       "/* On hover, darken the color of the background */\n",
       "#sk-container-id-1 div.sk-label:hover label.sk-toggleable__label {\n",
       "  color: var(--sklearn-color-text);\n",
       "  background-color: var(--sklearn-color-unfitted-level-2);\n",
       "}\n",
       "\n",
       "/* Label box, darken color on hover, fitted */\n",
       "#sk-container-id-1 div.sk-label.fitted:hover label.sk-toggleable__label.fitted {\n",
       "  color: var(--sklearn-color-text);\n",
       "  background-color: var(--sklearn-color-fitted-level-2);\n",
       "}\n",
       "\n",
       "/* Estimator label */\n",
       "\n",
       "#sk-container-id-1 div.sk-label label {\n",
       "  font-family: monospace;\n",
       "  font-weight: bold;\n",
       "  display: inline-block;\n",
       "  line-height: 1.2em;\n",
       "}\n",
       "\n",
       "#sk-container-id-1 div.sk-label-container {\n",
       "  text-align: center;\n",
       "}\n",
       "\n",
       "/* Estimator-specific */\n",
       "#sk-container-id-1 div.sk-estimator {\n",
       "  font-family: monospace;\n",
       "  border: 1px dotted var(--sklearn-color-border-box);\n",
       "  border-radius: 0.25em;\n",
       "  box-sizing: border-box;\n",
       "  margin-bottom: 0.5em;\n",
       "  /* unfitted */\n",
       "  background-color: var(--sklearn-color-unfitted-level-0);\n",
       "}\n",
       "\n",
       "#sk-container-id-1 div.sk-estimator.fitted {\n",
       "  /* fitted */\n",
       "  background-color: var(--sklearn-color-fitted-level-0);\n",
       "}\n",
       "\n",
       "/* on hover */\n",
       "#sk-container-id-1 div.sk-estimator:hover {\n",
       "  /* unfitted */\n",
       "  background-color: var(--sklearn-color-unfitted-level-2);\n",
       "}\n",
       "\n",
       "#sk-container-id-1 div.sk-estimator.fitted:hover {\n",
       "  /* fitted */\n",
       "  background-color: var(--sklearn-color-fitted-level-2);\n",
       "}\n",
       "\n",
       "/* Specification for estimator info (e.g. \"i\" and \"?\") */\n",
       "\n",
       "/* Common style for \"i\" and \"?\" */\n",
       "\n",
       ".sk-estimator-doc-link,\n",
       "a:link.sk-estimator-doc-link,\n",
       "a:visited.sk-estimator-doc-link {\n",
       "  float: right;\n",
       "  font-size: smaller;\n",
       "  line-height: 1em;\n",
       "  font-family: monospace;\n",
       "  background-color: var(--sklearn-color-background);\n",
       "  border-radius: 1em;\n",
       "  height: 1em;\n",
       "  width: 1em;\n",
       "  text-decoration: none !important;\n",
       "  margin-left: 1ex;\n",
       "  /* unfitted */\n",
       "  border: var(--sklearn-color-unfitted-level-1) 1pt solid;\n",
       "  color: var(--sklearn-color-unfitted-level-1);\n",
       "}\n",
       "\n",
       ".sk-estimator-doc-link.fitted,\n",
       "a:link.sk-estimator-doc-link.fitted,\n",
       "a:visited.sk-estimator-doc-link.fitted {\n",
       "  /* fitted */\n",
       "  border: var(--sklearn-color-fitted-level-1) 1pt solid;\n",
       "  color: var(--sklearn-color-fitted-level-1);\n",
       "}\n",
       "\n",
       "/* On hover */\n",
       "div.sk-estimator:hover .sk-estimator-doc-link:hover,\n",
       ".sk-estimator-doc-link:hover,\n",
       "div.sk-label-container:hover .sk-estimator-doc-link:hover,\n",
       ".sk-estimator-doc-link:hover {\n",
       "  /* unfitted */\n",
       "  background-color: var(--sklearn-color-unfitted-level-3);\n",
       "  color: var(--sklearn-color-background);\n",
       "  text-decoration: none;\n",
       "}\n",
       "\n",
       "div.sk-estimator.fitted:hover .sk-estimator-doc-link.fitted:hover,\n",
       ".sk-estimator-doc-link.fitted:hover,\n",
       "div.sk-label-container:hover .sk-estimator-doc-link.fitted:hover,\n",
       ".sk-estimator-doc-link.fitted:hover {\n",
       "  /* fitted */\n",
       "  background-color: var(--sklearn-color-fitted-level-3);\n",
       "  color: var(--sklearn-color-background);\n",
       "  text-decoration: none;\n",
       "}\n",
       "\n",
       "/* Span, style for the box shown on hovering the info icon */\n",
       ".sk-estimator-doc-link span {\n",
       "  display: none;\n",
       "  z-index: 9999;\n",
       "  position: relative;\n",
       "  font-weight: normal;\n",
       "  right: .2ex;\n",
       "  padding: .5ex;\n",
       "  margin: .5ex;\n",
       "  width: min-content;\n",
       "  min-width: 20ex;\n",
       "  max-width: 50ex;\n",
       "  color: var(--sklearn-color-text);\n",
       "  box-shadow: 2pt 2pt 4pt #999;\n",
       "  /* unfitted */\n",
       "  background: var(--sklearn-color-unfitted-level-0);\n",
       "  border: .5pt solid var(--sklearn-color-unfitted-level-3);\n",
       "}\n",
       "\n",
       ".sk-estimator-doc-link.fitted span {\n",
       "  /* fitted */\n",
       "  background: var(--sklearn-color-fitted-level-0);\n",
       "  border: var(--sklearn-color-fitted-level-3);\n",
       "}\n",
       "\n",
       ".sk-estimator-doc-link:hover span {\n",
       "  display: block;\n",
       "}\n",
       "\n",
       "/* \"?\"-specific style due to the `<a>` HTML tag */\n",
       "\n",
       "#sk-container-id-1 a.estimator_doc_link {\n",
       "  float: right;\n",
       "  font-size: 1rem;\n",
       "  line-height: 1em;\n",
       "  font-family: monospace;\n",
       "  background-color: var(--sklearn-color-background);\n",
       "  border-radius: 1rem;\n",
       "  height: 1rem;\n",
       "  width: 1rem;\n",
       "  text-decoration: none;\n",
       "  /* unfitted */\n",
       "  color: var(--sklearn-color-unfitted-level-1);\n",
       "  border: var(--sklearn-color-unfitted-level-1) 1pt solid;\n",
       "}\n",
       "\n",
       "#sk-container-id-1 a.estimator_doc_link.fitted {\n",
       "  /* fitted */\n",
       "  border: var(--sklearn-color-fitted-level-1) 1pt solid;\n",
       "  color: var(--sklearn-color-fitted-level-1);\n",
       "}\n",
       "\n",
       "/* On hover */\n",
       "#sk-container-id-1 a.estimator_doc_link:hover {\n",
       "  /* unfitted */\n",
       "  background-color: var(--sklearn-color-unfitted-level-3);\n",
       "  color: var(--sklearn-color-background);\n",
       "  text-decoration: none;\n",
       "}\n",
       "\n",
       "#sk-container-id-1 a.estimator_doc_link.fitted:hover {\n",
       "  /* fitted */\n",
       "  background-color: var(--sklearn-color-fitted-level-3);\n",
       "}\n",
       "</style><div id=\"sk-container-id-1\" class=\"sk-top-container\"><div class=\"sk-text-repr-fallback\"><pre>LogisticRegression(max_iter=1000)</pre><b>In a Jupyter environment, please rerun this cell to show the HTML representation or trust the notebook. <br />On GitHub, the HTML representation is unable to render, please try loading this page with nbviewer.org.</b></div><div class=\"sk-container\" hidden><div class=\"sk-item\"><div class=\"sk-estimator fitted sk-toggleable\"><input class=\"sk-toggleable__control sk-hidden--visually\" id=\"sk-estimator-id-1\" type=\"checkbox\" checked><label for=\"sk-estimator-id-1\" class=\"sk-toggleable__label fitted sk-toggleable__label-arrow fitted\">&nbsp;&nbsp;LogisticRegression<a class=\"sk-estimator-doc-link fitted\" rel=\"noreferrer\" target=\"_blank\" href=\"https://scikit-learn.org/1.5/modules/generated/sklearn.linear_model.LogisticRegression.html\">?<span>Documentation for LogisticRegression</span></a><span class=\"sk-estimator-doc-link fitted\">i<span>Fitted</span></span></label><div class=\"sk-toggleable__content fitted\"><pre>LogisticRegression(max_iter=1000)</pre></div> </div></div></div></div>"
      ],
      "text/plain": [
       "LogisticRegression(max_iter=1000)"
      ]
     },
     "execution_count": 62,
     "metadata": {},
     "output_type": "execute_result"
    }
   ],
   "source": [
    "logreg = LogisticRegression(max_iter=1000)\n",
    "logreg.fit(X_train, y_train)"
   ]
  },
  {
   "cell_type": "markdown",
   "id": "5de69865-d636-41f8-b86f-28dccb9ff290",
   "metadata": {
    "panel-layout": {
     "height": 43.203125,
     "visible": true,
     "width": 100
    }
   },
   "source": [
    "#### Eğitim Verilerinin Öğrenilme Oranı"
   ]
  },
  {
   "cell_type": "code",
   "execution_count": 64,
   "id": "40cded85-d5ea-49ca-a879-0c0a4b5b324b",
   "metadata": {
    "panel-layout": {
     "height": 1306,
     "visible": true,
     "width": 100
    }
   },
   "outputs": [
    {
     "name": "stdout",
     "output_type": "stream",
     "text": [
      "SLR Egitim Dogrulugu: 76.45%\n"
     ]
    }
   ],
   "source": [
    "acc_train_slr = round(logreg.score(X_train, y_train) * 100, 2)\n",
    "print(f\"SLR Egitim Dogrulugu: {acc_train_slr}%\")"
   ]
  },
  {
   "cell_type": "markdown",
   "id": "4e2ba1f5-779c-4d13-b9e8-163c24d7c1af",
   "metadata": {
    "panel-layout": {
     "height": 43.203125,
     "visible": true,
     "width": 100
    }
   },
   "source": [
    "#### Test Verilerinin Öğrenilme Oranı"
   ]
  },
  {
   "cell_type": "code",
   "execution_count": 66,
   "id": "6c1abff4-c99d-4126-b509-087256b0539e",
   "metadata": {
    "panel-layout": {
     "height": 1306,
     "visible": true,
     "width": 100
    }
   },
   "outputs": [
    {
     "name": "stdout",
     "output_type": "stream",
     "text": [
      "SLR Test Dogrulugu: 76.97%\n"
     ]
    }
   ],
   "source": [
    "acc_test_slr = round(logreg.score(X_test, y_test) * 100, 2)\n",
    "print(f\"SLR Test Dogrulugu: {acc_test_slr}%\")"
   ]
  },
  {
   "cell_type": "markdown",
   "id": "9458a3f7-071e-4ec0-b224-67e909d4deda",
   "metadata": {
    "panel-layout": {
     "height": 43.203125,
     "visible": true,
     "width": 100
    }
   },
   "source": [
    "#### Hata Matrisi"
   ]
  },
  {
   "cell_type": "code",
   "execution_count": 171,
   "id": "18025ebc-6839-42c8-9438-077d816a2f31",
   "metadata": {},
   "outputs": [
    {
     "data": {
      "image/png": "[encoded data removed]",
      "text/plain": [
       "<Figure size 1200x600 with 1 Axes>"
      ]
     },
     "metadata": {},
     "output_type": "display_data"
    }
   ],
   "source": [
    "y_pred = logreg.predict(X_test)\n",
    "conf_matrix = confusion_matrix(y_test, y_pred)\n",
    "\n",
    "# Hata matrisini normalize et\n",
    "conf_matrix_logreg_normalized = conf_matrix.astype('float') / conf_matrix.sum(axis=1)[:, np.newaxis]\n",
    "\n",
    "plt.figure(figsize=(12, 6))\n",
    "sns.heatmap(conf_matrix_logreg_normalized, annot=True, fmt='.2f', cmap='Blues', xticklabels=logreg.classes_, yticklabels=logreg.classes_, cbar=False)\n",
    "plt.title('Hata Matrisi - Logistic Regression')\n",
    "plt.xlabel('Ogrenilen Degerler (y_pred)')\n",
    "plt.ylabel('Gerçek Degerler (y_test)')\n",
    "plt.xticks(rotation=30)\n",
    "plt.show()"
   ]
  },
  {
   "cell_type": "markdown",
   "id": "359a090d-7fb7-4dba-b701-497444fff4f9",
   "metadata": {
    "panel-layout": {
     "height": 44.0938,
     "visible": true,
     "width": 100
    }
   },
   "source": [
    "#### <font color = 'RED'>2) Karar Ağaçları (Decision Tree - DT)"
   ]
  },
  {
   "cell_type": "markdown",
   "id": "8b61e867-3820-4d18-af4a-0f9996ebb444",
   "metadata": {
    "panel-layout": {
     "height": 43.2031,
     "visible": true,
     "width": 100
    }
   },
   "source": [
    "#### Hiperparametre (max_depth) Optimizasyonu"
   ]
  },
  {
   "cell_type": "code",
   "execution_count": 71,
   "id": "13c7455f-ec62-4d79-b5d1-f8813ea7c22a",
   "metadata": {},
   "outputs": [
    {
     "name": "stdout",
     "output_type": "stream",
     "text": [
      "max_depth=1 için dogruluk orani: 43.35%\n",
      "max_depth=2 için dogruluk orani: 64.68%\n",
      "max_depth=3 için dogruluk orani: 76.48%\n",
      "max_depth=4 için dogruluk orani: 89.67%\n",
      "max_depth=5 için dogruluk orani: 93.14%\n"
     ]
    }
   ],
   "source": [
    "for depth in range(1, 6):  # 1'den 5'e kadar max_depth değerlerini test et\n",
    "    tree_clf = DecisionTreeClassifier(max_depth=depth, random_state=42)\n",
    "    tree_clf.fit(X_train, y_train)\n",
    "    y_pred = tree_clf.predict(X_test)\n",
    "    accuracy = accuracy_score(y_test, y_pred)*100\n",
    "    print(f\"max_depth={depth} için dogruluk orani: {accuracy:.2f}%\")"
   ]
  },
  {
   "cell_type": "markdown",
   "id": "6a66924e-e2df-4919-ae3d-abf2491d6840",
   "metadata": {},
   "source": [
    "#### Modeli Oluştur ve Eğit"
   ]
  },
  {
   "cell_type": "code",
   "execution_count": 73,
   "id": "d44cfa6b-9ee8-4981-97a2-536919c9a72f",
   "metadata": {
    "panel-layout": {
     "height": 1375.06,
     "visible": true,
     "width": 100
    }
   },
   "outputs": [
    {
     "data": {
      "text/html": [
       "<style>#sk-container-id-2 {\n",
       "  /* Definition of color scheme common for light and dark mode */\n",
       "  --sklearn-color-text: black;\n",
       "  --sklearn-color-line: gray;\n",
       "  /* Definition of color scheme for unfitted estimators */\n",
       "  --sklearn-color-unfitted-level-0: #fff5e6;\n",
       "  --sklearn-color-unfitted-level-1: #f6e4d2;\n",
       "  --sklearn-color-unfitted-level-2: #ffe0b3;\n",
       "  --sklearn-color-unfitted-level-3: chocolate;\n",
       "  /* Definition of color scheme for fitted estimators */\n",
       "  --sklearn-color-fitted-level-0: #f0f8ff;\n",
       "  --sklearn-color-fitted-level-1: #d4ebff;\n",
       "  --sklearn-color-fitted-level-2: #b3dbfd;\n",
       "  --sklearn-color-fitted-level-3: cornflowerblue;\n",
       "\n",
       "  /* Specific color for light theme */\n",
       "  --sklearn-color-text-on-default-background: var(--sg-text-color, var(--theme-code-foreground, var(--jp-content-font-color1, black)));\n",
       "  --sklearn-color-background: var(--sg-background-color, var(--theme-background, var(--jp-layout-color0, white)));\n",
       "  --sklearn-color-border-box: var(--sg-text-color, var(--theme-code-foreground, var(--jp-content-font-color1, black)));\n",
       "  --sklearn-color-icon: #696969;\n",
       "\n",
       "  @media (prefers-color-scheme: dark) {\n",
       "    /* Redefinition of color scheme for dark theme */\n",
       "    --sklearn-color-text-on-default-background: var(--sg-text-color, var(--theme-code-foreground, var(--jp-content-font-color1, white)));\n",
       "    --sklearn-color-background: var(--sg-background-color, var(--theme-background, var(--jp-layout-color0, #111)));\n",
       "    --sklearn-color-border-box: var(--sg-text-color, var(--theme-code-foreground, var(--jp-content-font-color1, white)));\n",
       "    --sklearn-color-icon: #878787;\n",
       "  }\n",
       "}\n",
       "\n",
       "#sk-container-id-2 {\n",
       "  color: var(--sklearn-color-text);\n",
       "}\n",
       "\n",
       "#sk-container-id-2 pre {\n",
       "  padding: 0;\n",
       "}\n",
       "\n",
       "#sk-container-id-2 input.sk-hidden--visually {\n",
       "  border: 0;\n",
       "  clip: rect(1px 1px 1px 1px);\n",
       "  clip: rect(1px, 1px, 1px, 1px);\n",
       "  height: 1px;\n",
       "  margin: -1px;\n",
       "  overflow: hidden;\n",
       "  padding: 0;\n",
       "  position: absolute;\n",
       "  width: 1px;\n",
       "}\n",
       "\n",
       "#sk-container-id-2 div.sk-dashed-wrapped {\n",
       "  border: 1px dashed var(--sklearn-color-line);\n",
       "  margin: 0 0.4em 0.5em 0.4em;\n",
       "  box-sizing: border-box;\n",
       "  padding-bottom: 0.4em;\n",
       "  background-color: var(--sklearn-color-background);\n",
       "}\n",
       "\n",
       "#sk-container-id-2 div.sk-container {\n",
       "  /* jupyter's `normalize.less` sets `[hidden] { display: none; }`\n",
       "     but bootstrap.min.css set `[hidden] { display: none !important; }`\n",
       "     so we also need the `!important` here to be able to override the\n",
       "     default hidden behavior on the sphinx rendered scikit-learn.org.\n",
       "     See: https://github.com/scikit-learn/scikit-learn/issues/21755 */\n",
       "  display: inline-block !important;\n",
       "  position: relative;\n",
       "}\n",
       "\n",
       "#sk-container-id-2 div.sk-text-repr-fallback {\n",
       "  display: none;\n",
       "}\n",
       "\n",
       "div.sk-parallel-item,\n",
       "div.sk-serial,\n",
       "div.sk-item {\n",
       "  /* draw centered vertical line to link estimators */\n",
       "  background-image: linear-gradient(var(--sklearn-color-text-on-default-background), var(--sklearn-color-text-on-default-background));\n",
       "  background-size: 2px 100%;\n",
       "  background-repeat: no-repeat;\n",
       "  background-position: center center;\n",
       "}\n",
       "\n",
       "/* Parallel-specific style estimator block */\n",
       "\n",
       "#sk-container-id-2 div.sk-parallel-item::after {\n",
       "  content: \"\";\n",
       "  width: 100%;\n",
       "  border-bottom: 2px solid var(--sklearn-color-text-on-default-background);\n",
       "  flex-grow: 1;\n",
       "}\n",
       "\n",
       "#sk-container-id-2 div.sk-parallel {\n",
       "  display: flex;\n",
       "  align-items: stretch;\n",
       "  justify-content: center;\n",
       "  background-color: var(--sklearn-color-background);\n",
       "  position: relative;\n",
       "}\n",
       "\n",
       "#sk-container-id-2 div.sk-parallel-item {\n",
       "  display: flex;\n",
       "  flex-direction: column;\n",
       "}\n",
       "\n",
       "#sk-container-id-2 div.sk-parallel-item:first-child::after {\n",
       "  align-self: flex-end;\n",
       "  width: 50%;\n",
       "}\n",
       "\n",
       "#sk-container-id-2 div.sk-parallel-item:last-child::after {\n",
       "  align-self: flex-start;\n",
       "  width: 50%;\n",
       "}\n",
       "\n",
       "#sk-container-id-2 div.sk-parallel-item:only-child::after {\n",
       "  width: 0;\n",
       "}\n",
       "\n",
       "/* Serial-specific style estimator block */\n",
       "\n",
       "#sk-container-id-2 div.sk-serial {\n",
       "  display: flex;\n",
       "  flex-direction: column;\n",
       "  align-items: center;\n",
       "  background-color: var(--sklearn-color-background);\n",
       "  padding-right: 1em;\n",
       "  padding-left: 1em;\n",
       "}\n",
       "\n",
       "\n",
       "/* Toggleable style: style used for estimator/Pipeline/ColumnTransformer box that is\n",
       "clickable and can be expanded/collapsed.\n",
       "- Pipeline and ColumnTransformer use this feature and define the default style\n",
       "- Estimators will overwrite some part of the style using the `sk-estimator` class\n",
       "*/\n",
       "\n",
       "/* Pipeline and ColumnTransformer style (default) */\n",
       "\n",
       "#sk-container-id-2 div.sk-toggleable {\n",
       "  /* Default theme specific background. It is overwritten whether we have a\n",
       "  specific estimator or a Pipeline/ColumnTransformer */\n",
       "  background-color: var(--sklearn-color-background);\n",
       "}\n",
       "\n",
       "/* Toggleable label */\n",
       "#sk-container-id-2 label.sk-toggleable__label {\n",
       "  cursor: pointer;\n",
       "  display: block;\n",
       "  width: 100%;\n",
       "  margin-bottom: 0;\n",
       "  padding: 0.5em;\n",
       "  box-sizing: border-box;\n",
       "  text-align: center;\n",
       "}\n",
       "\n",
       "#sk-container-id-2 label.sk-toggleable__label-arrow:before {\n",
       "  /* Arrow on the left of the label */\n",
       "  content: \"▸\";\n",
       "  float: left;\n",
       "  margin-right: 0.25em;\n",
       "  color: var(--sklearn-color-icon);\n",
       "}\n",
       "\n",
       "#sk-container-id-2 label.sk-toggleable__label-arrow:hover:before {\n",
       "  color: var(--sklearn-color-text);\n",
       "}\n",
       "\n",
       "/* Toggleable content - dropdown */\n",
       "\n",
       "#sk-container-id-2 div.sk-toggleable__content {\n",
       "  max-height: 0;\n",
       "  max-width: 0;\n",
       "  overflow: hidden;\n",
       "  text-align: left;\n",
       "  /* unfitted */\n",
       "  background-color: var(--sklearn-color-unfitted-level-0);\n",
       "}\n",
       "\n",
       "#sk-container-id-2 div.sk-toggleable__content.fitted {\n",
       "  /* fitted */\n",
       "  background-color: var(--sklearn-color-fitted-level-0);\n",
       "}\n",
       "\n",
       "#sk-container-id-2 div.sk-toggleable__content pre {\n",
       "  margin: 0.2em;\n",
       "  border-radius: 0.25em;\n",
       "  color: var(--sklearn-color-text);\n",
       "  /* unfitted */\n",
       "  background-color: var(--sklearn-color-unfitted-level-0);\n",
       "}\n",
       "\n",
       "#sk-container-id-2 div.sk-toggleable__content.fitted pre {\n",
       "  /* unfitted */\n",
       "  background-color: var(--sklearn-color-fitted-level-0);\n",
       "}\n",
       "\n",
       "#sk-container-id-2 input.sk-toggleable__control:checked~div.sk-toggleable__content {\n",
       "  /* Expand drop-down */\n",
       "  max-height: 200px;\n",
       "  max-width: 100%;\n",
       "  overflow: auto;\n",
       "}\n",
       "\n",
       "#sk-container-id-2 input.sk-toggleable__control:checked~label.sk-toggleable__label-arrow:before {\n",
       "  content: \"▾\";\n",
       "}\n",
       "\n",
       "/* Pipeline/ColumnTransformer-specific style */\n",
       "\n",
       "#sk-container-id-2 div.sk-label input.sk-toggleable__control:checked~label.sk-toggleable__label {\n",
       "  color: var(--sklearn-color-text);\n",
       "  background-color: var(--sklearn-color-unfitted-level-2);\n",
       "}\n",
       "\n",
       "#sk-container-id-2 div.sk-label.fitted input.sk-toggleable__control:checked~label.sk-toggleable__label {\n",
       "  background-color: var(--sklearn-color-fitted-level-2);\n",
       "}\n",
       "\n",
       "/* Estimator-specific style */\n",
       "\n",
       "/* Colorize estimator box */\n",
       "#sk-container-id-2 div.sk-estimator input.sk-toggleable__control:checked~label.sk-toggleable__label {\n",
       "  /* unfitted */\n",
       "  background-color: var(--sklearn-color-unfitted-level-2);\n",
       "}\n",
       "\n",
       "#sk-container-id-2 div.sk-estimator.fitted input.sk-toggleable__control:checked~label.sk-toggleable__label {\n",
       "  /* fitted */\n",
       "  background-color: var(--sklearn-color-fitted-level-2);\n",
       "}\n",
       "\n",
       "#sk-container-id-2 div.sk-label label.sk-toggleable__label,\n",
       "#sk-container-id-2 div.sk-label label {\n",
       "  /* The background is the default theme color */\n",
       "  color: var(--sklearn-color-text-on-default-background);\n",
       "}\n",
       "\n",
       "/* On hover, darken the color of the background */\n",
       "#sk-container-id-2 div.sk-label:hover label.sk-toggleable__label {\n",
       "  color: var(--sklearn-color-text);\n",
       "  background-color: var(--sklearn-color-unfitted-level-2);\n",
       "}\n",
       "\n",
       "/* Label box, darken color on hover, fitted */\n",
       "#sk-container-id-2 div.sk-label.fitted:hover label.sk-toggleable__label.fitted {\n",
       "  color: var(--sklearn-color-text);\n",
       "  background-color: var(--sklearn-color-fitted-level-2);\n",
       "}\n",
       "\n",
       "/* Estimator label */\n",
       "\n",
       "#sk-container-id-2 div.sk-label label {\n",
       "  font-family: monospace;\n",
       "  font-weight: bold;\n",
       "  display: inline-block;\n",
       "  line-height: 1.2em;\n",
       "}\n",
       "\n",
       "#sk-container-id-2 div.sk-label-container {\n",
       "  text-align: center;\n",
       "}\n",
       "\n",
       "/* Estimator-specific */\n",
       "#sk-container-id-2 div.sk-estimator {\n",
       "  font-family: monospace;\n",
       "  border: 1px dotted var(--sklearn-color-border-box);\n",
       "  border-radius: 0.25em;\n",
       "  box-sizing: border-box;\n",
       "  margin-bottom: 0.5em;\n",
       "  /* unfitted */\n",
       "  background-color: var(--sklearn-color-unfitted-level-0);\n",
       "}\n",
       "\n",
       "#sk-container-id-2 div.sk-estimator.fitted {\n",
       "  /* fitted */\n",
       "  background-color: var(--sklearn-color-fitted-level-0);\n",
       "}\n",
       "\n",
       "/* on hover */\n",
       "#sk-container-id-2 div.sk-estimator:hover {\n",
       "  /* unfitted */\n",
       "  background-color: var(--sklearn-color-unfitted-level-2);\n",
       "}\n",
       "\n",
       "#sk-container-id-2 div.sk-estimator.fitted:hover {\n",
       "  /* fitted */\n",
       "  background-color: var(--sklearn-color-fitted-level-2);\n",
       "}\n",
       "\n",
       "/* Specification for estimator info (e.g. \"i\" and \"?\") */\n",
       "\n",
       "/* Common style for \"i\" and \"?\" */\n",
       "\n",
       ".sk-estimator-doc-link,\n",
       "a:link.sk-estimator-doc-link,\n",
       "a:visited.sk-estimator-doc-link {\n",
       "  float: right;\n",
       "  font-size: smaller;\n",
       "  line-height: 1em;\n",
       "  font-family: monospace;\n",
       "  background-color: var(--sklearn-color-background);\n",
       "  border-radius: 1em;\n",
       "  height: 1em;\n",
       "  width: 1em;\n",
       "  text-decoration: none !important;\n",
       "  margin-left: 1ex;\n",
       "  /* unfitted */\n",
       "  border: var(--sklearn-color-unfitted-level-1) 1pt solid;\n",
       "  color: var(--sklearn-color-unfitted-level-1);\n",
       "}\n",
       "\n",
       ".sk-estimator-doc-link.fitted,\n",
       "a:link.sk-estimator-doc-link.fitted,\n",
       "a:visited.sk-estimator-doc-link.fitted {\n",
       "  /* fitted */\n",
       "  border: var(--sklearn-color-fitted-level-1) 1pt solid;\n",
       "  color: var(--sklearn-color-fitted-level-1);\n",
       "}\n",
       "\n",
       "/* On hover */\n",
       "div.sk-estimator:hover .sk-estimator-doc-link:hover,\n",
       ".sk-estimator-doc-link:hover,\n",
       "div.sk-label-container:hover .sk-estimator-doc-link:hover,\n",
       ".sk-estimator-doc-link:hover {\n",
       "  /* unfitted */\n",
       "  background-color: var(--sklearn-color-unfitted-level-3);\n",
       "  color: var(--sklearn-color-background);\n",
       "  text-decoration: none;\n",
       "}\n",
       "\n",
       "div.sk-estimator.fitted:hover .sk-estimator-doc-link.fitted:hover,\n",
       ".sk-estimator-doc-link.fitted:hover,\n",
       "div.sk-label-container:hover .sk-estimator-doc-link.fitted:hover,\n",
       ".sk-estimator-doc-link.fitted:hover {\n",
       "  /* fitted */\n",
       "  background-color: var(--sklearn-color-fitted-level-3);\n",
       "  color: var(--sklearn-color-background);\n",
       "  text-decoration: none;\n",
       "}\n",
       "\n",
       "/* Span, style for the box shown on hovering the info icon */\n",
       ".sk-estimator-doc-link span {\n",
       "  display: none;\n",
       "  z-index: 9999;\n",
       "  position: relative;\n",
       "  font-weight: normal;\n",
       "  right: .2ex;\n",
       "  padding: .5ex;\n",
       "  margin: .5ex;\n",
       "  width: min-content;\n",
       "  min-width: 20ex;\n",
       "  max-width: 50ex;\n",
       "  color: var(--sklearn-color-text);\n",
       "  box-shadow: 2pt 2pt 4pt #999;\n",
       "  /* unfitted */\n",
       "  background: var(--sklearn-color-unfitted-level-0);\n",
       "  border: .5pt solid var(--sklearn-color-unfitted-level-3);\n",
       "}\n",
       "\n",
       ".sk-estimator-doc-link.fitted span {\n",
       "  /* fitted */\n",
       "  background: var(--sklearn-color-fitted-level-0);\n",
       "  border: var(--sklearn-color-fitted-level-3);\n",
       "}\n",
       "\n",
       ".sk-estimator-doc-link:hover span {\n",
       "  display: block;\n",
       "}\n",
       "\n",
       "/* \"?\"-specific style due to the `<a>` HTML tag */\n",
       "\n",
       "#sk-container-id-2 a.estimator_doc_link {\n",
       "  float: right;\n",
       "  font-size: 1rem;\n",
       "  line-height: 1em;\n",
       "  font-family: monospace;\n",
       "  background-color: var(--sklearn-color-background);\n",
       "  border-radius: 1rem;\n",
       "  height: 1rem;\n",
       "  width: 1rem;\n",
       "  text-decoration: none;\n",
       "  /* unfitted */\n",
       "  color: var(--sklearn-color-unfitted-level-1);\n",
       "  border: var(--sklearn-color-unfitted-level-1) 1pt solid;\n",
       "}\n",
       "\n",
       "#sk-container-id-2 a.estimator_doc_link.fitted {\n",
       "  /* fitted */\n",
       "  border: var(--sklearn-color-fitted-level-1) 1pt solid;\n",
       "  color: var(--sklearn-color-fitted-level-1);\n",
       "}\n",
       "\n",
       "/* On hover */\n",
       "#sk-container-id-2 a.estimator_doc_link:hover {\n",
       "  /* unfitted */\n",
       "  background-color: var(--sklearn-color-unfitted-level-3);\n",
       "  color: var(--sklearn-color-background);\n",
       "  text-decoration: none;\n",
       "}\n",
       "\n",
       "#sk-container-id-2 a.estimator_doc_link.fitted:hover {\n",
       "  /* fitted */\n",
       "  background-color: var(--sklearn-color-fitted-level-3);\n",
       "}\n",
       "</style><div id=\"sk-container-id-2\" class=\"sk-top-container\"><div class=\"sk-text-repr-fallback\"><pre>DecisionTreeClassifier(max_depth=4, random_state=42)</pre><b>In a Jupyter environment, please rerun this cell to show the HTML representation or trust the notebook. <br />On GitHub, the HTML representation is unable to render, please try loading this page with nbviewer.org.</b></div><div class=\"sk-container\" hidden><div class=\"sk-item\"><div class=\"sk-estimator fitted sk-toggleable\"><input class=\"sk-toggleable__control sk-hidden--visually\" id=\"sk-estimator-id-2\" type=\"checkbox\" checked><label for=\"sk-estimator-id-2\" class=\"sk-toggleable__label fitted sk-toggleable__label-arrow fitted\">&nbsp;&nbsp;DecisionTreeClassifier<a class=\"sk-estimator-doc-link fitted\" rel=\"noreferrer\" target=\"_blank\" href=\"https://scikit-learn.org/1.5/modules/generated/sklearn.tree.DecisionTreeClassifier.html\">?<span>Documentation for DecisionTreeClassifier</span></a><span class=\"sk-estimator-doc-link fitted\">i<span>Fitted</span></span></label><div class=\"sk-toggleable__content fitted\"><pre>DecisionTreeClassifier(max_depth=4, random_state=42)</pre></div> </div></div></div></div>"
      ],
      "text/plain": [
       "DecisionTreeClassifier(max_depth=4, random_state=42)"
      ]
     },
     "execution_count": 73,
     "metadata": {},
     "output_type": "execute_result"
    }
   ],
   "source": [
    "tree_clf = DecisionTreeClassifier(criterion=\"gini\", max_depth=4, random_state=42)\n",
    "tree_clf.fit(X_train, y_train)"
   ]
  },
  {
   "cell_type": "markdown",
   "id": "6706008c-ca64-4784-ba0e-27b1ddcdb361",
   "metadata": {
    "panel-layout": {
     "height": 43.2031,
     "visible": true,
     "width": 100
    }
   },
   "source": [
    "#### Eğitim Verilerinin Öğrenilme Oranı"
   ]
  },
  {
   "cell_type": "code",
   "execution_count": 75,
   "id": "540a56b7-d691-4aae-a619-f55c08792ca6",
   "metadata": {
    "panel-layout": {
     "height": 1306,
     "visible": true,
     "width": 100
    }
   },
   "outputs": [
    {
     "name": "stdout",
     "output_type": "stream",
     "text": [
      "DT Egitim Dogrulugu: 89.17%\n"
     ]
    }
   ],
   "source": [
    "acc_train_dt = round(tree_clf.score(X_train, y_train) * 100, 2)\n",
    "print(f\"DT Egitim Dogrulugu: {acc_train_dt}%\")"
   ]
  },
  {
   "cell_type": "markdown",
   "id": "1daa5e1c-8e6c-4a68-902e-02713605067a",
   "metadata": {
    "panel-layout": {
     "height": 43.203125,
     "visible": true,
     "width": 100
    }
   },
   "source": [
    "#### Test Verilerinin Öğrenilme Oranı"
   ]
  },
  {
   "cell_type": "code",
   "execution_count": 77,
   "id": "7307051b-6bf4-4fc7-a96c-a9a1aa59e257",
   "metadata": {
    "panel-layout": {
     "height": 874,
     "visible": true,
     "width": 100
    }
   },
   "outputs": [
    {
     "name": "stdout",
     "output_type": "stream",
     "text": [
      "DT Test Dogrulugu: 89.67%\n"
     ]
    }
   ],
   "source": [
    "acc_test_dt = round(tree_clf.score(X_test, y_test) * 100, 2)\n",
    "print(f\"DT Test Dogrulugu: {acc_test_dt}%\")"
   ]
  },
  {
   "cell_type": "markdown",
   "id": "43bdb852-3db0-4e83-90e7-182300666aef",
   "metadata": {
    "panel-layout": {
     "height": 43.2031,
     "visible": true,
     "width": 100
    }
   },
   "source": [
    "#### Hata Matrisi"
   ]
  },
  {
   "cell_type": "code",
   "execution_count": 169,
   "id": "5088da67-5f3c-470b-b8cb-65e71414f53d",
   "metadata": {},
   "outputs": [
    {
     "data": {
      "image/png": "[encoded data removed]",
      "text/plain": [
       "<Figure size 1200x600 with 1 Axes>"
      ]
     },
     "metadata": {},
     "output_type": "display_data"
    }
   ],
   "source": [
    "y_pred = tree_clf.predict(X_test)\n",
    "conf_matrix = confusion_matrix(y_test, y_pred)\n",
    "\n",
    "# Hata matrisini normalize et\n",
    "conf_matrix_dt_normalized = conf_matrix.astype('float') / conf_matrix.sum(axis=1)[:, np.newaxis]\n",
    "\n",
    "plt.figure(figsize=(12, 6))\n",
    "sns.heatmap(conf_matrix_dt_normalized, annot=True, fmt='.2f', cmap='Blues', xticklabels=tree_clf.classes_, yticklabels=tree_clf.classes_, cbar=False)\n",
    "plt.title('Hata Matrisi - Decision Tree')\n",
    "plt.xlabel('Ogrenilen Degerler (y_pred)')\n",
    "plt.ylabel('Gerçek Degerler (y_test)')\n",
    "plt.xticks(rotation=30)\n",
    "plt.show()"
   ]
  },
  {
   "cell_type": "markdown",
   "id": "d3854f31-78e0-4cd9-85e9-a46377b13ab0",
   "metadata": {
    "panel-layout": {
     "height": 43.2031,
     "visible": true,
     "width": 100
    }
   },
   "source": [
    "#### Karar Ağacının Görünümü"
   ]
  },
  {
   "cell_type": "code",
   "execution_count": 81,
   "id": "b1929119-0efd-47a3-a0e9-cf289dd04086",
   "metadata": {
    "panel-layout": {
     "height": 1306,
     "visible": true,
     "width": 100
    }
   },
   "outputs": [
    {
     "data": {
      "image/png": "[encoded data removed]",
      "text/plain": [
       "<Figure size 1200x600 with 1 Axes>"
      ]
     },
     "metadata": {},
     "output_type": "display_data"
    }
   ],
   "source": [
    "plt.figure(figsize=(12, 6))\n",
    "plot_tree(tree_clf, filled = True, feature_names = X.columns, class_names = y.unique())\n",
    "plt.title(\"Karar Agaci\")\n",
    "plt.show()"
   ]
  },
  {
   "cell_type": "code",
   "execution_count": 82,
   "id": "f9504cf8-0cbe-4781-b568-5c8083aacdf5",
   "metadata": {},
   "outputs": [
    {
     "name": "stdout",
     "output_type": "stream",
     "text": [
      "|--- temperature <= 19.47\n",
      "|   |--- turbidity <= 3.50\n",
      "|   |   |--- ph <= 8.74\n",
      "|   |   |   |--- temperature <= 17.91\n",
      "|   |   |   |   |--- class: tilapia\n",
      "|   |   |   |--- temperature >  17.91\n",
      "|   |   |   |   |--- class: pangas\n",
      "|   |   |--- ph >  8.74\n",
      "|   |   |   |--- class: pangas\n",
      "|   |--- turbidity >  3.50\n",
      "|   |   |--- class: tilapia\n",
      "|--- temperature >  19.47\n",
      "|   |--- turbidity <= 3.52\n",
      "|   |   |--- class: rui\n",
      "|   |--- turbidity >  3.52\n",
      "|   |   |--- turbidity <= 3.59\n",
      "|   |   |   |--- ph <= 6.58\n",
      "|   |   |   |   |--- class: silverCup\n",
      "|   |   |   |--- ph >  6.58\n",
      "|   |   |   |   |--- class: sing\n",
      "|   |   |--- turbidity >  3.59\n",
      "|   |   |   |--- ph <= 7.35\n",
      "|   |   |   |   |--- class: shrimp\n",
      "|   |   |   |--- ph >  7.35\n",
      "|   |   |   |   |--- class: katla\n",
      "\n"
     ]
    }
   ],
   "source": [
    "tree_rules = export_text(tree_clf, feature_names=list(X.columns))\n",
    "print(tree_rules)"
   ]
  },
  {
   "cell_type": "markdown",
   "id": "7d815fb7-ef28-4dbe-8c53-b924dbcd0513",
   "metadata": {
    "panel-layout": {
     "height": 43.203125,
     "visible": true,
     "width": 100
    }
   },
   "source": [
    "#### Özelliklerin Önem Oranları"
   ]
  },
  {
   "cell_type": "code",
   "execution_count": 84,
   "id": "106e5bb3-5399-4557-8d34-d9cfc80c7ae8",
   "metadata": {
    "panel-layout": {
     "height": 874,
     "visible": true,
     "width": 100
    }
   },
   "outputs": [
    {
     "name": "stdout",
     "output_type": "stream",
     "text": [
      "    Ozellik  Onem Orani (%)\n",
      "  turbidity           51.31\n",
      "temperature           28.07\n",
      "         ph           20.63\n"
     ]
    }
   ],
   "source": [
    "# Karar ağacı modelinden özellik önem oranlarını al\n",
    "feature_importances = tree_clf.feature_importances_\n",
    "feature_names = X.columns\n",
    "\n",
    "# Özellik önem oranlarını yüzdesel olarak hesapla\n",
    "feature_importances_data = [\n",
    "    {\"Ozellik\": feature_name, \"Onem Orani (%)\": round(importance * 100, 2)}\n",
    "    for importance, feature_name in zip(feature_importances, feature_names)\n",
    "    if importance > 0  # Sıfır olmayan özellikleri dahil et\n",
    "]\n",
    "\n",
    "# Sonuçları bir DataFrame'e aktar ve sırala\n",
    "feature_importances_df = pd.DataFrame(feature_importances_data)\n",
    "feature_importances_df = feature_importances_df.sort_values(by=\"Onem Orani (%)\", ascending=False)\n",
    "\n",
    "# Özelliklerin önem oranlarını yazdır\n",
    "print(feature_importances_df.to_string(index=False))"
   ]
  },
  {
   "cell_type": "markdown",
   "id": "40017481-8637-4894-a2a4-bc31ec231353",
   "metadata": {
    "panel-layout": {
     "height": 44.09375,
     "visible": true,
     "width": 100
    }
   },
   "source": [
    "#### <font color = 'RED'>3) K-En Yakın Komşular (K-Nearest Neighbors - KNN)"
   ]
  },
  {
   "cell_type": "markdown",
   "id": "4c3d748a-2513-4872-bded-9a9eac06048d",
   "metadata": {
    "panel-layout": {
     "height": 43.203125,
     "visible": true,
     "width": 100
    }
   },
   "source": [
    "#### Hiperparametre (k) Optimizasyonu"
   ]
  },
  {
   "cell_type": "code",
   "execution_count": 87,
   "id": "7d893f72-2b70-4629-b706-c9bb081ecbc0",
   "metadata": {
    "panel-layout": {
     "height": 701,
     "visible": true,
     "width": 100
    }
   },
   "outputs": [
    {
     "data": {
      "image/png": "[encoded data removed]",
      "text/plain": [
       "<Figure size 1200x600 with 1 Axes>"
      ]
     },
     "metadata": {},
     "output_type": "display_data"
    }
   ],
   "source": [
    "accuracy_values = []\n",
    "k_values = []\n",
    "\n",
    "# Farklı k degerlerini test et\n",
    "for k in range(1, 6):\n",
    "    knn = KNeighborsClassifier(n_neighbors=k)\n",
    "    knn.fit(X_train, y_train)\n",
    "    y_pred = knn.predict(X_test)\n",
    "    accuracy = accuracy_score(y_test, y_pred)\n",
    "    accuracy_values.append(accuracy)\n",
    "    k_values.append(k)\n",
    "\n",
    "# Dogruluk oranlarini gorsellestir\n",
    "plt.figure(figsize=(12, 6))\n",
    "plt.plot(k_values, accuracy_values, marker=\"o\", linestyle=\"-\", color=\"blue\")\n",
    "plt.title(\"K Degerine Gore Dogruluk\")\n",
    "plt.xlabel(\"K Degeri\")\n",
    "plt.ylabel(\"Dogruluk\")\n",
    "plt.xticks(k_values)\n",
    "plt.grid(True)\n",
    "plt.show()"
   ]
  },
  {
   "cell_type": "markdown",
   "id": "2bf5df6c-9058-4fed-a394-1e0e12129e33",
   "metadata": {
    "panel-layout": {
     "height": 43.203125,
     "visible": true,
     "width": 100
    }
   },
   "source": [
    "#### KNN Modeli Oluştur ve Eğit"
   ]
  },
  {
   "cell_type": "code",
   "execution_count": 89,
   "id": "f8440b30-b87f-498b-bd72-2d2171facfec",
   "metadata": {
    "panel-layout": {
     "height": 770.0625,
     "visible": true,
     "width": 100
    }
   },
   "outputs": [
    {
     "data": {
      "text/html": [
       "<style>#sk-container-id-3 {\n",
       "  /* Definition of color scheme common for light and dark mode */\n",
       "  --sklearn-color-text: black;\n",
       "  --sklearn-color-line: gray;\n",
       "  /* Definition of color scheme for unfitted estimators */\n",
       "  --sklearn-color-unfitted-level-0: #fff5e6;\n",
       "  --sklearn-color-unfitted-level-1: #f6e4d2;\n",
       "  --sklearn-color-unfitted-level-2: #ffe0b3;\n",
       "  --sklearn-color-unfitted-level-3: chocolate;\n",
       "  /* Definition of color scheme for fitted estimators */\n",
       "  --sklearn-color-fitted-level-0: #f0f8ff;\n",
       "  --sklearn-color-fitted-level-1: #d4ebff;\n",
       "  --sklearn-color-fitted-level-2: #b3dbfd;\n",
       "  --sklearn-color-fitted-level-3: cornflowerblue;\n",
       "\n",
       "  /* Specific color for light theme */\n",
       "  --sklearn-color-text-on-default-background: var(--sg-text-color, var(--theme-code-foreground, var(--jp-content-font-color1, black)));\n",
       "  --sklearn-color-background: var(--sg-background-color, var(--theme-background, var(--jp-layout-color0, white)));\n",
       "  --sklearn-color-border-box: var(--sg-text-color, var(--theme-code-foreground, var(--jp-content-font-color1, black)));\n",
       "  --sklearn-color-icon: #696969;\n",
       "\n",
       "  @media (prefers-color-scheme: dark) {\n",
       "    /* Redefinition of color scheme for dark theme */\n",
       "    --sklearn-color-text-on-default-background: var(--sg-text-color, var(--theme-code-foreground, var(--jp-content-font-color1, white)));\n",
       "    --sklearn-color-background: var(--sg-background-color, var(--theme-background, var(--jp-layout-color0, #111)));\n",
       "    --sklearn-color-border-box: var(--sg-text-color, var(--theme-code-foreground, var(--jp-content-font-color1, white)));\n",
       "    --sklearn-color-icon: #878787;\n",
       "  }\n",
       "}\n",
       "\n",
       "#sk-container-id-3 {\n",
       "  color: var(--sklearn-color-text);\n",
       "}\n",
       "\n",
       "#sk-container-id-3 pre {\n",
       "  padding: 0;\n",
       "}\n",
       "\n",
       "#sk-container-id-3 input.sk-hidden--visually {\n",
       "  border: 0;\n",
       "  clip: rect(1px 1px 1px 1px);\n",
       "  clip: rect(1px, 1px, 1px, 1px);\n",
       "  height: 1px;\n",
       "  margin: -1px;\n",
       "  overflow: hidden;\n",
       "  padding: 0;\n",
       "  position: absolute;\n",
       "  width: 1px;\n",
       "}\n",
       "\n",
       "#sk-container-id-3 div.sk-dashed-wrapped {\n",
       "  border: 1px dashed var(--sklearn-color-line);\n",
       "  margin: 0 0.4em 0.5em 0.4em;\n",
       "  box-sizing: border-box;\n",
       "  padding-bottom: 0.4em;\n",
       "  background-color: var(--sklearn-color-background);\n",
       "}\n",
       "\n",
       "#sk-container-id-3 div.sk-container {\n",
       "  /* jupyter's `normalize.less` sets `[hidden] { display: none; }`\n",
       "     but bootstrap.min.css set `[hidden] { display: none !important; }`\n",
       "     so we also need the `!important` here to be able to override the\n",
       "     default hidden behavior on the sphinx rendered scikit-learn.org.\n",
       "     See: https://github.com/scikit-learn/scikit-learn/issues/21755 */\n",
       "  display: inline-block !important;\n",
       "  position: relative;\n",
       "}\n",
       "\n",
       "#sk-container-id-3 div.sk-text-repr-fallback {\n",
       "  display: none;\n",
       "}\n",
       "\n",
       "div.sk-parallel-item,\n",
       "div.sk-serial,\n",
       "div.sk-item {\n",
       "  /* draw centered vertical line to link estimators */\n",
       "  background-image: linear-gradient(var(--sklearn-color-text-on-default-background), var(--sklearn-color-text-on-default-background));\n",
       "  background-size: 2px 100%;\n",
       "  background-repeat: no-repeat;\n",
       "  background-position: center center;\n",
       "}\n",
       "\n",
       "/* Parallel-specific style estimator block */\n",
       "\n",
       "#sk-container-id-3 div.sk-parallel-item::after {\n",
       "  content: \"\";\n",
       "  width: 100%;\n",
       "  border-bottom: 2px solid var(--sklearn-color-text-on-default-background);\n",
       "  flex-grow: 1;\n",
       "}\n",
       "\n",
       "#sk-container-id-3 div.sk-parallel {\n",
       "  display: flex;\n",
       "  align-items: stretch;\n",
       "  justify-content: center;\n",
       "  background-color: var(--sklearn-color-background);\n",
       "  position: relative;\n",
       "}\n",
       "\n",
       "#sk-container-id-3 div.sk-parallel-item {\n",
       "  display: flex;\n",
       "  flex-direction: column;\n",
       "}\n",
       "\n",
       "#sk-container-id-3 div.sk-parallel-item:first-child::after {\n",
       "  align-self: flex-end;\n",
       "  width: 50%;\n",
       "}\n",
       "\n",
       "#sk-container-id-3 div.sk-parallel-item:last-child::after {\n",
       "  align-self: flex-start;\n",
       "  width: 50%;\n",
       "}\n",
       "\n",
       "#sk-container-id-3 div.sk-parallel-item:only-child::after {\n",
       "  width: 0;\n",
       "}\n",
       "\n",
       "/* Serial-specific style estimator block */\n",
       "\n",
       "#sk-container-id-3 div.sk-serial {\n",
       "  display: flex;\n",
       "  flex-direction: column;\n",
       "  align-items: center;\n",
       "  background-color: var(--sklearn-color-background);\n",
       "  padding-right: 1em;\n",
       "  padding-left: 1em;\n",
       "}\n",
       "\n",
       "\n",
       "/* Toggleable style: style used for estimator/Pipeline/ColumnTransformer box that is\n",
       "clickable and can be expanded/collapsed.\n",
       "- Pipeline and ColumnTransformer use this feature and define the default style\n",
       "- Estimators will overwrite some part of the style using the `sk-estimator` class\n",
       "*/\n",
       "\n",
       "/* Pipeline and ColumnTransformer style (default) */\n",
       "\n",
       "#sk-container-id-3 div.sk-toggleable {\n",
       "  /* Default theme specific background. It is overwritten whether we have a\n",
       "  specific estimator or a Pipeline/ColumnTransformer */\n",
       "  background-color: var(--sklearn-color-background);\n",
       "}\n",
       "\n",
       "/* Toggleable label */\n",
       "#sk-container-id-3 label.sk-toggleable__label {\n",
       "  cursor: pointer;\n",
       "  display: block;\n",
       "  width: 100%;\n",
       "  margin-bottom: 0;\n",
       "  padding: 0.5em;\n",
       "  box-sizing: border-box;\n",
       "  text-align: center;\n",
       "}\n",
       "\n",
       "#sk-container-id-3 label.sk-toggleable__label-arrow:before {\n",
       "  /* Arrow on the left of the label */\n",
       "  content: \"▸\";\n",
       "  float: left;\n",
       "  margin-right: 0.25em;\n",
       "  color: var(--sklearn-color-icon);\n",
       "}\n",
       "\n",
       "#sk-container-id-3 label.sk-toggleable__label-arrow:hover:before {\n",
       "  color: var(--sklearn-color-text);\n",
       "}\n",
       "\n",
       "/* Toggleable content - dropdown */\n",
       "\n",
       "#sk-container-id-3 div.sk-toggleable__content {\n",
       "  max-height: 0;\n",
       "  max-width: 0;\n",
       "  overflow: hidden;\n",
       "  text-align: left;\n",
       "  /* unfitted */\n",
       "  background-color: var(--sklearn-color-unfitted-level-0);\n",
       "}\n",
       "\n",
       "#sk-container-id-3 div.sk-toggleable__content.fitted {\n",
       "  /* fitted */\n",
       "  background-color: var(--sklearn-color-fitted-level-0);\n",
       "}\n",
       "\n",
       "#sk-container-id-3 div.sk-toggleable__content pre {\n",
       "  margin: 0.2em;\n",
       "  border-radius: 0.25em;\n",
       "  color: var(--sklearn-color-text);\n",
       "  /* unfitted */\n",
       "  background-color: var(--sklearn-color-unfitted-level-0);\n",
       "}\n",
       "\n",
       "#sk-container-id-3 div.sk-toggleable__content.fitted pre {\n",
       "  /* unfitted */\n",
       "  background-color: var(--sklearn-color-fitted-level-0);\n",
       "}\n",
       "\n",
       "#sk-container-id-3 input.sk-toggleable__control:checked~div.sk-toggleable__content {\n",
       "  /* Expand drop-down */\n",
       "  max-height: 200px;\n",
       "  max-width: 100%;\n",
       "  overflow: auto;\n",
       "}\n",
       "\n",
       "#sk-container-id-3 input.sk-toggleable__control:checked~label.sk-toggleable__label-arrow:before {\n",
       "  content: \"▾\";\n",
       "}\n",
       "\n",
       "/* Pipeline/ColumnTransformer-specific style */\n",
       "\n",
       "#sk-container-id-3 div.sk-label input.sk-toggleable__control:checked~label.sk-toggleable__label {\n",
       "  color: var(--sklearn-color-text);\n",
       "  background-color: var(--sklearn-color-unfitted-level-2);\n",
       "}\n",
       "\n",
       "#sk-container-id-3 div.sk-label.fitted input.sk-toggleable__control:checked~label.sk-toggleable__label {\n",
       "  background-color: var(--sklearn-color-fitted-level-2);\n",
       "}\n",
       "\n",
       "/* Estimator-specific style */\n",
       "\n",
       "/* Colorize estimator box */\n",
       "#sk-container-id-3 div.sk-estimator input.sk-toggleable__control:checked~label.sk-toggleable__label {\n",
       "  /* unfitted */\n",
       "  background-color: var(--sklearn-color-unfitted-level-2);\n",
       "}\n",
       "\n",
       "#sk-container-id-3 div.sk-estimator.fitted input.sk-toggleable__control:checked~label.sk-toggleable__label {\n",
       "  /* fitted */\n",
       "  background-color: var(--sklearn-color-fitted-level-2);\n",
       "}\n",
       "\n",
       "#sk-container-id-3 div.sk-label label.sk-toggleable__label,\n",
       "#sk-container-id-3 div.sk-label label {\n",
       "  /* The background is the default theme color */\n",
       "  color: var(--sklearn-color-text-on-default-background);\n",
       "}\n",
       "\n",
       "/* On hover, darken the color of the background */\n",
       "#sk-container-id-3 div.sk-label:hover label.sk-toggleable__label {\n",
       "  color: var(--sklearn-color-text);\n",
       "  background-color: var(--sklearn-color-unfitted-level-2);\n",
       "}\n",
       "\n",
       "/* Label box, darken color on hover, fitted */\n",
       "#sk-container-id-3 div.sk-label.fitted:hover label.sk-toggleable__label.fitted {\n",
       "  color: var(--sklearn-color-text);\n",
       "  background-color: var(--sklearn-color-fitted-level-2);\n",
       "}\n",
       "\n",
       "/* Estimator label */\n",
       "\n",
       "#sk-container-id-3 div.sk-label label {\n",
       "  font-family: monospace;\n",
       "  font-weight: bold;\n",
       "  display: inline-block;\n",
       "  line-height: 1.2em;\n",
       "}\n",
       "\n",
       "#sk-container-id-3 div.sk-label-container {\n",
       "  text-align: center;\n",
       "}\n",
       "\n",
       "/* Estimator-specific */\n",
       "#sk-container-id-3 div.sk-estimator {\n",
       "  font-family: monospace;\n",
       "  border: 1px dotted var(--sklearn-color-border-box);\n",
       "  border-radius: 0.25em;\n",
       "  box-sizing: border-box;\n",
       "  margin-bottom: 0.5em;\n",
       "  /* unfitted */\n",
       "  background-color: var(--sklearn-color-unfitted-level-0);\n",
       "}\n",
       "\n",
       "#sk-container-id-3 div.sk-estimator.fitted {\n",
       "  /* fitted */\n",
       "  background-color: var(--sklearn-color-fitted-level-0);\n",
       "}\n",
       "\n",
       "/* on hover */\n",
       "#sk-container-id-3 div.sk-estimator:hover {\n",
       "  /* unfitted */\n",
       "  background-color: var(--sklearn-color-unfitted-level-2);\n",
       "}\n",
       "\n",
       "#sk-container-id-3 div.sk-estimator.fitted:hover {\n",
       "  /* fitted */\n",
       "  background-color: var(--sklearn-color-fitted-level-2);\n",
       "}\n",
       "\n",
       "/* Specification for estimator info (e.g. \"i\" and \"?\") */\n",
       "\n",
       "/* Common style for \"i\" and \"?\" */\n",
       "\n",
       ".sk-estimator-doc-link,\n",
       "a:link.sk-estimator-doc-link,\n",
       "a:visited.sk-estimator-doc-link {\n",
       "  float: right;\n",
       "  font-size: smaller;\n",
       "  line-height: 1em;\n",
       "  font-family: monospace;\n",
       "  background-color: var(--sklearn-color-background);\n",
       "  border-radius: 1em;\n",
       "  height: 1em;\n",
       "  width: 1em;\n",
       "  text-decoration: none !important;\n",
       "  margin-left: 1ex;\n",
       "  /* unfitted */\n",
       "  border: var(--sklearn-color-unfitted-level-1) 1pt solid;\n",
       "  color: var(--sklearn-color-unfitted-level-1);\n",
       "}\n",
       "\n",
       ".sk-estimator-doc-link.fitted,\n",
       "a:link.sk-estimator-doc-link.fitted,\n",
       "a:visited.sk-estimator-doc-link.fitted {\n",
       "  /* fitted */\n",
       "  border: var(--sklearn-color-fitted-level-1) 1pt solid;\n",
       "  color: var(--sklearn-color-fitted-level-1);\n",
       "}\n",
       "\n",
       "/* On hover */\n",
       "div.sk-estimator:hover .sk-estimator-doc-link:hover,\n",
       ".sk-estimator-doc-link:hover,\n",
       "div.sk-label-container:hover .sk-estimator-doc-link:hover,\n",
       ".sk-estimator-doc-link:hover {\n",
       "  /* unfitted */\n",
       "  background-color: var(--sklearn-color-unfitted-level-3);\n",
       "  color: var(--sklearn-color-background);\n",
       "  text-decoration: none;\n",
       "}\n",
       "\n",
       "div.sk-estimator.fitted:hover .sk-estimator-doc-link.fitted:hover,\n",
       ".sk-estimator-doc-link.fitted:hover,\n",
       "div.sk-label-container:hover .sk-estimator-doc-link.fitted:hover,\n",
       ".sk-estimator-doc-link.fitted:hover {\n",
       "  /* fitted */\n",
       "  background-color: var(--sklearn-color-fitted-level-3);\n",
       "  color: var(--sklearn-color-background);\n",
       "  text-decoration: none;\n",
       "}\n",
       "\n",
       "/* Span, style for the box shown on hovering the info icon */\n",
       ".sk-estimator-doc-link span {\n",
       "  display: none;\n",
       "  z-index: 9999;\n",
       "  position: relative;\n",
       "  font-weight: normal;\n",
       "  right: .2ex;\n",
       "  padding: .5ex;\n",
       "  margin: .5ex;\n",
       "  width: min-content;\n",
       "  min-width: 20ex;\n",
       "  max-width: 50ex;\n",
       "  color: var(--sklearn-color-text);\n",
       "  box-shadow: 2pt 2pt 4pt #999;\n",
       "  /* unfitted */\n",
       "  background: var(--sklearn-color-unfitted-level-0);\n",
       "  border: .5pt solid var(--sklearn-color-unfitted-level-3);\n",
       "}\n",
       "\n",
       ".sk-estimator-doc-link.fitted span {\n",
       "  /* fitted */\n",
       "  background: var(--sklearn-color-fitted-level-0);\n",
       "  border: var(--sklearn-color-fitted-level-3);\n",
       "}\n",
       "\n",
       ".sk-estimator-doc-link:hover span {\n",
       "  display: block;\n",
       "}\n",
       "\n",
       "/* \"?\"-specific style due to the `<a>` HTML tag */\n",
       "\n",
       "#sk-container-id-3 a.estimator_doc_link {\n",
       "  float: right;\n",
       "  font-size: 1rem;\n",
       "  line-height: 1em;\n",
       "  font-family: monospace;\n",
       "  background-color: var(--sklearn-color-background);\n",
       "  border-radius: 1rem;\n",
       "  height: 1rem;\n",
       "  width: 1rem;\n",
       "  text-decoration: none;\n",
       "  /* unfitted */\n",
       "  color: var(--sklearn-color-unfitted-level-1);\n",
       "  border: var(--sklearn-color-unfitted-level-1) 1pt solid;\n",
       "}\n",
       "\n",
       "#sk-container-id-3 a.estimator_doc_link.fitted {\n",
       "  /* fitted */\n",
       "  border: var(--sklearn-color-fitted-level-1) 1pt solid;\n",
       "  color: var(--sklearn-color-fitted-level-1);\n",
       "}\n",
       "\n",
       "/* On hover */\n",
       "#sk-container-id-3 a.estimator_doc_link:hover {\n",
       "  /* unfitted */\n",
       "  background-color: var(--sklearn-color-unfitted-level-3);\n",
       "  color: var(--sklearn-color-background);\n",
       "  text-decoration: none;\n",
       "}\n",
       "\n",
       "#sk-container-id-3 a.estimator_doc_link.fitted:hover {\n",
       "  /* fitted */\n",
       "  background-color: var(--sklearn-color-fitted-level-3);\n",
       "}\n",
       "</style><div id=\"sk-container-id-3\" class=\"sk-top-container\"><div class=\"sk-text-repr-fallback\"><pre>KNeighborsClassifier(n_neighbors=1)</pre><b>In a Jupyter environment, please rerun this cell to show the HTML representation or trust the notebook. <br />On GitHub, the HTML representation is unable to render, please try loading this page with nbviewer.org.</b></div><div class=\"sk-container\" hidden><div class=\"sk-item\"><div class=\"sk-estimator fitted sk-toggleable\"><input class=\"sk-toggleable__control sk-hidden--visually\" id=\"sk-estimator-id-3\" type=\"checkbox\" checked><label for=\"sk-estimator-id-3\" class=\"sk-toggleable__label fitted sk-toggleable__label-arrow fitted\">&nbsp;&nbsp;KNeighborsClassifier<a class=\"sk-estimator-doc-link fitted\" rel=\"noreferrer\" target=\"_blank\" href=\"https://scikit-learn.org/1.5/modules/generated/sklearn.neighbors.KNeighborsClassifier.html\">?<span>Documentation for KNeighborsClassifier</span></a><span class=\"sk-estimator-doc-link fitted\">i<span>Fitted</span></span></label><div class=\"sk-toggleable__content fitted\"><pre>KNeighborsClassifier(n_neighbors=1)</pre></div> </div></div></div></div>"
      ],
      "text/plain": [
       "KNeighborsClassifier(n_neighbors=1)"
      ]
     },
     "execution_count": 89,
     "metadata": {},
     "output_type": "execute_result"
    }
   ],
   "source": [
    "best_k = accuracy_values.index(max(accuracy_values)) + 1\n",
    "knn = KNeighborsClassifier(n_neighbors=best_k)\n",
    "knn.fit(X_train, y_train)"
   ]
  },
  {
   "cell_type": "markdown",
   "id": "48bee49c-a345-4b96-b395-9db6c105631b",
   "metadata": {
    "panel-layout": {
     "height": 43.203125,
     "visible": true,
     "width": 100
    }
   },
   "source": [
    "#### Eğitim Verilerinin Öğrenilme Oranı"
   ]
  },
  {
   "cell_type": "code",
   "execution_count": 91,
   "id": "12702824-3774-43e9-ab16-97ef6f2e75bf",
   "metadata": {
    "panel-layout": {
     "height": 701,
     "visible": true,
     "width": 100
    }
   },
   "outputs": [
    {
     "name": "stdout",
     "output_type": "stream",
     "text": [
      "KNN Eğitim Doğruluğu: 100.0%\n"
     ]
    }
   ],
   "source": [
    "acc_train_knn = round(knn.score(X_train, y_train) * 100, 2)\n",
    "print(f\"KNN Eğitim Doğruluğu: {acc_train_knn}%\")"
   ]
  },
  {
   "cell_type": "markdown",
   "id": "df57d42b-a785-4116-ae0f-d80ab01bbef4",
   "metadata": {
    "panel-layout": {
     "height": 43.203125,
     "visible": true,
     "width": 100
    }
   },
   "source": [
    "#### Test Verilerinin Öğrenilme Oranı"
   ]
  },
  {
   "cell_type": "code",
   "execution_count": 93,
   "id": "dbe12a59-0885-4274-b7c3-b7732047963f",
   "metadata": {
    "panel-layout": {
     "height": 701,
     "visible": true,
     "width": 100
    }
   },
   "outputs": [
    {
     "name": "stdout",
     "output_type": "stream",
     "text": [
      "KNN Test Doğruluğu: 100.0%\n"
     ]
    }
   ],
   "source": [
    "acc_test_knn = round(knn.score(X_test, y_test) * 100, 2)\n",
    "print(f\"KNN Test Doğruluğu: {acc_test_knn}%\")"
   ]
  },
  {
   "cell_type": "markdown",
   "id": "0ab97a1b-e389-473d-adcc-70a047dbd952",
   "metadata": {
    "panel-layout": {
     "height": 43.203125,
     "visible": true,
     "width": 100
    }
   },
   "source": [
    "#### Hata Matrisi Görselleştirme"
   ]
  },
  {
   "cell_type": "code",
   "execution_count": 95,
   "id": "522b8ed4-3686-4454-8254-1cf56d2d963a",
   "metadata": {
    "panel-layout": {
     "height": 874,
     "visible": true,
     "width": 100
    }
   },
   "outputs": [
    {
     "data": {
      "image/png": "[encoded data removed]",
      "text/plain": [
       "<Figure size 1200x600 with 1 Axes>"
      ]
     },
     "metadata": {},
     "output_type": "display_data"
    }
   ],
   "source": [
    "y_pred = knn.predict(X_test)\n",
    "conf_matrix = confusion_matrix(y_test, y_pred)\n",
    "\n",
    "# Hata matrisini normalize et\n",
    "conf_matrix_knn_normalized = conf_matrix.astype('float') / conf_matrix.sum(axis=1)[:, np.newaxis]\n",
    "\n",
    "plt.figure(figsize=(12, 6))\n",
    "sns.heatmap(conf_matrix_knn_normalized, annot=True, fmt='.2f', cmap='Blues', xticklabels=logreg.classes_, yticklabels=logreg.classes_, cbar=False)\n",
    "plt.title('Hata Matrisi - KNN')\n",
    "plt.xlabel('Ogrenilen Degerler (y_pred)')\n",
    "plt.ylabel('Gerçek Degerler (y_test)')\n",
    "plt.xticks(rotation=30)\n",
    "plt.show()"
   ]
  },
  {
   "cell_type": "markdown",
   "id": "abee9462-73c4-4d49-8338-672792d06841",
   "metadata": {},
   "source": [
    "#### <font color = 'RED'> 4) Rastgele Orman (Random Forest - RF)"
   ]
  },
  {
   "cell_type": "markdown",
   "id": "07365826-6e11-4f02-ac34-fd0e081e8fbe",
   "metadata": {},
   "source": [
    "#### Hiperparametre Optimizasyonu"
   ]
  },
  {
   "cell_type": "raw",
   "id": "5fed6fa2-6ded-4d4b-86ad-bd6122e26dec",
   "metadata": {},
   "source": [
    "n_estimators_list\n",
    "Random Forest modelindeki karar ağacı sayısını belirtir.\n",
    "\n",
    "max_depth_list\n",
    "Her bir karar ağacının maksimum derinliğini sınırlar.\n",
    "\n",
    "min_samples_split_list\n",
    "Bir düğümün bölünmesi için gereken minimum örnek sayısını belirtir."
   ]
  },
  {
   "cell_type": "code",
   "execution_count": 98,
   "id": "6a36a16f-8dc0-4e14-ac9b-b2f8f2c2dab7",
   "metadata": {},
   "outputs": [
    {
     "name": "stdout",
     "output_type": "stream",
     "text": [
      "    n_estimators  max_depth  min_samples_split  Egitim Dogrulugu (%)  \\\n",
      "17           100          6                  5                 98.81   \n",
      "10            50          6                  2                 98.81   \n",
      "16           100          6                  2                 98.81   \n",
      "11            50          6                  5                 98.81   \n",
      "4             10          6                  2                 97.90   \n",
      "5             10          6                  5                 97.90   \n",
      "15           100          4                  5                 95.58   \n",
      "14           100          4                  2                 95.58   \n",
      "9             50          4                  5                 95.58   \n",
      "8             50          4                  2                 95.58   \n",
      "3             10          4                  5                 90.00   \n",
      "2             10          4                  2                 90.00   \n",
      "7             50          2                  5                 75.71   \n",
      "12           100          2                  2                 75.71   \n",
      "13           100          2                  5                 75.71   \n",
      "6             50          2                  2                 75.71   \n",
      "1             10          2                  5                 75.45   \n",
      "0             10          2                  2                 75.45   \n",
      "\n",
      "    Test Dogrulugu (%)  \n",
      "17               98.48  \n",
      "10               98.48  \n",
      "16               98.48  \n",
      "11               98.48  \n",
      "4                97.97  \n",
      "5                97.97  \n",
      "15               95.60  \n",
      "14               95.60  \n",
      "9                95.60  \n",
      "8                95.60  \n",
      "3                90.39  \n",
      "2                90.39  \n",
      "7                76.85  \n",
      "12               76.85  \n",
      "13               76.85  \n",
      "6                76.85  \n",
      "1                76.60  \n",
      "0                76.60  \n"
     ]
    }
   ],
   "source": [
    "# Parametre kombinasyonları için test edilecek değerler\n",
    "n_estimators_list = [10, 50, 100]\n",
    "max_depth_list = [2, 4, 6]\n",
    "min_samples_split_list = [2, 5]\n",
    "\n",
    "# Sonuçları saklamak için bir liste\n",
    "results = []\n",
    "\n",
    "# Tüm kombinasyonları test et\n",
    "for n_estimators in n_estimators_list:\n",
    "    for max_depth in max_depth_list:\n",
    "        for min_samples_split in min_samples_split_list:\n",
    "            rf_clf = RandomForestClassifier(\n",
    "                n_estimators=n_estimators,\n",
    "                max_depth=max_depth,\n",
    "                min_samples_split=min_samples_split,\n",
    "                random_state=42\n",
    "            )\n",
    "            rf_clf.fit(X_train, y_train)\n",
    "            acc_train = rf_clf.score(X_train, y_train) * 100\n",
    "            acc_test = rf_clf.score(X_test, y_test) * 100\n",
    "            results.append({\n",
    "                \"n_estimators\": n_estimators,\n",
    "                \"max_depth\": max_depth,\n",
    "                \"min_samples_split\": min_samples_split,\n",
    "                \"Egitim Dogrulugu (%)\": round(acc_train, 2),\n",
    "                \"Test Dogrulugu (%)\": round(acc_test, 2)\n",
    "            })\n",
    "\n",
    "# Sonuçları DataFrame'e dönüştür\n",
    "results_df = pd.DataFrame(results)\n",
    "results_df = results_df.sort_values(by=\"Test Dogrulugu (%)\", ascending=False)\n",
    "\n",
    "# Sonuçları yazdır\n",
    "print(results_df)"
   ]
  },
  {
   "cell_type": "raw",
   "id": "079bd695-20fb-4187-9308-6f5d67c4d826",
   "metadata": {},
   "source": [
    "Daha dengeli ve genelleme yeteneği yüksek bir model için \n",
    "n_estimators=50, \n",
    "max_depth=4, \n",
    "min_samples_split=5 \n",
    "olarak belirlenmiştir."
   ]
  },
  {
   "cell_type": "markdown",
   "id": "e38c1a5d-08cc-4178-8926-50a3d2356b77",
   "metadata": {},
   "source": [
    "#### Modeli Oluştur ve Eğit"
   ]
  },
  {
   "cell_type": "code",
   "execution_count": 100,
   "id": "d862eb47-616f-450d-8e35-6fad646c938d",
   "metadata": {},
   "outputs": [
    {
     "data": {
      "text/html": [
       "<style>#sk-container-id-4 {\n",
       "  /* Definition of color scheme common for light and dark mode */\n",
       "  --sklearn-color-text: black;\n",
       "  --sklearn-color-line: gray;\n",
       "  /* Definition of color scheme for unfitted estimators */\n",
       "  --sklearn-color-unfitted-level-0: #fff5e6;\n",
       "  --sklearn-color-unfitted-level-1: #f6e4d2;\n",
       "  --sklearn-color-unfitted-level-2: #ffe0b3;\n",
       "  --sklearn-color-unfitted-level-3: chocolate;\n",
       "  /* Definition of color scheme for fitted estimators */\n",
       "  --sklearn-color-fitted-level-0: #f0f8ff;\n",
       "  --sklearn-color-fitted-level-1: #d4ebff;\n",
       "  --sklearn-color-fitted-level-2: #b3dbfd;\n",
       "  --sklearn-color-fitted-level-3: cornflowerblue;\n",
       "\n",
       "  /* Specific color for light theme */\n",
       "  --sklearn-color-text-on-default-background: var(--sg-text-color, var(--theme-code-foreground, var(--jp-content-font-color1, black)));\n",
       "  --sklearn-color-background: var(--sg-background-color, var(--theme-background, var(--jp-layout-color0, white)));\n",
       "  --sklearn-color-border-box: var(--sg-text-color, var(--theme-code-foreground, var(--jp-content-font-color1, black)));\n",
       "  --sklearn-color-icon: #696969;\n",
       "\n",
       "  @media (prefers-color-scheme: dark) {\n",
       "    /* Redefinition of color scheme for dark theme */\n",
       "    --sklearn-color-text-on-default-background: var(--sg-text-color, var(--theme-code-foreground, var(--jp-content-font-color1, white)));\n",
       "    --sklearn-color-background: var(--sg-background-color, var(--theme-background, var(--jp-layout-color0, #111)));\n",
       "    --sklearn-color-border-box: var(--sg-text-color, var(--theme-code-foreground, var(--jp-content-font-color1, white)));\n",
       "    --sklearn-color-icon: #878787;\n",
       "  }\n",
       "}\n",
       "\n",
       "#sk-container-id-4 {\n",
       "  color: var(--sklearn-color-text);\n",
       "}\n",
       "\n",
       "#sk-container-id-4 pre {\n",
       "  padding: 0;\n",
       "}\n",
       "\n",
       "#sk-container-id-4 input.sk-hidden--visually {\n",
       "  border: 0;\n",
       "  clip: rect(1px 1px 1px 1px);\n",
       "  clip: rect(1px, 1px, 1px, 1px);\n",
       "  height: 1px;\n",
       "  margin: -1px;\n",
       "  overflow: hidden;\n",
       "  padding: 0;\n",
       "  position: absolute;\n",
       "  width: 1px;\n",
       "}\n",
       "\n",
       "#sk-container-id-4 div.sk-dashed-wrapped {\n",
       "  border: 1px dashed var(--sklearn-color-line);\n",
       "  margin: 0 0.4em 0.5em 0.4em;\n",
       "  box-sizing: border-box;\n",
       "  padding-bottom: 0.4em;\n",
       "  background-color: var(--sklearn-color-background);\n",
       "}\n",
       "\n",
       "#sk-container-id-4 div.sk-container {\n",
       "  /* jupyter's `normalize.less` sets `[hidden] { display: none; }`\n",
       "     but bootstrap.min.css set `[hidden] { display: none !important; }`\n",
       "     so we also need the `!important` here to be able to override the\n",
       "     default hidden behavior on the sphinx rendered scikit-learn.org.\n",
       "     See: https://github.com/scikit-learn/scikit-learn/issues/21755 */\n",
       "  display: inline-block !important;\n",
       "  position: relative;\n",
       "}\n",
       "\n",
       "#sk-container-id-4 div.sk-text-repr-fallback {\n",
       "  display: none;\n",
       "}\n",
       "\n",
       "div.sk-parallel-item,\n",
       "div.sk-serial,\n",
       "div.sk-item {\n",
       "  /* draw centered vertical line to link estimators */\n",
       "  background-image: linear-gradient(var(--sklearn-color-text-on-default-background), var(--sklearn-color-text-on-default-background));\n",
       "  background-size: 2px 100%;\n",
       "  background-repeat: no-repeat;\n",
       "  background-position: center center;\n",
       "}\n",
       "\n",
       "/* Parallel-specific style estimator block */\n",
       "\n",
       "#sk-container-id-4 div.sk-parallel-item::after {\n",
       "  content: \"\";\n",
       "  width: 100%;\n",
       "  border-bottom: 2px solid var(--sklearn-color-text-on-default-background);\n",
       "  flex-grow: 1;\n",
       "}\n",
       "\n",
       "#sk-container-id-4 div.sk-parallel {\n",
       "  display: flex;\n",
       "  align-items: stretch;\n",
       "  justify-content: center;\n",
       "  background-color: var(--sklearn-color-background);\n",
       "  position: relative;\n",
       "}\n",
       "\n",
       "#sk-container-id-4 div.sk-parallel-item {\n",
       "  display: flex;\n",
       "  flex-direction: column;\n",
       "}\n",
       "\n",
       "#sk-container-id-4 div.sk-parallel-item:first-child::after {\n",
       "  align-self: flex-end;\n",
       "  width: 50%;\n",
       "}\n",
       "\n",
       "#sk-container-id-4 div.sk-parallel-item:last-child::after {\n",
       "  align-self: flex-start;\n",
       "  width: 50%;\n",
       "}\n",
       "\n",
       "#sk-container-id-4 div.sk-parallel-item:only-child::after {\n",
       "  width: 0;\n",
       "}\n",
       "\n",
       "/* Serial-specific style estimator block */\n",
       "\n",
       "#sk-container-id-4 div.sk-serial {\n",
       "  display: flex;\n",
       "  flex-direction: column;\n",
       "  align-items: center;\n",
       "  background-color: var(--sklearn-color-background);\n",
       "  padding-right: 1em;\n",
       "  padding-left: 1em;\n",
       "}\n",
       "\n",
       "\n",
       "/* Toggleable style: style used for estimator/Pipeline/ColumnTransformer box that is\n",
       "clickable and can be expanded/collapsed.\n",
       "- Pipeline and ColumnTransformer use this feature and define the default style\n",
       "- Estimators will overwrite some part of the style using the `sk-estimator` class\n",
       "*/\n",
       "\n",
       "/* Pipeline and ColumnTransformer style (default) */\n",
       "\n",
       "#sk-container-id-4 div.sk-toggleable {\n",
       "  /* Default theme specific background. It is overwritten whether we have a\n",
       "  specific estimator or a Pipeline/ColumnTransformer */\n",
       "  background-color: var(--sklearn-color-background);\n",
       "}\n",
       "\n",
       "/* Toggleable label */\n",
       "#sk-container-id-4 label.sk-toggleable__label {\n",
       "  cursor: pointer;\n",
       "  display: block;\n",
       "  width: 100%;\n",
       "  margin-bottom: 0;\n",
       "  padding: 0.5em;\n",
       "  box-sizing: border-box;\n",
       "  text-align: center;\n",
       "}\n",
       "\n",
       "#sk-container-id-4 label.sk-toggleable__label-arrow:before {\n",
       "  /* Arrow on the left of the label */\n",
       "  content: \"▸\";\n",
       "  float: left;\n",
       "  margin-right: 0.25em;\n",
       "  color: var(--sklearn-color-icon);\n",
       "}\n",
       "\n",
       "#sk-container-id-4 label.sk-toggleable__label-arrow:hover:before {\n",
       "  color: var(--sklearn-color-text);\n",
       "}\n",
       "\n",
       "/* Toggleable content - dropdown */\n",
       "\n",
       "#sk-container-id-4 div.sk-toggleable__content {\n",
       "  max-height: 0;\n",
       "  max-width: 0;\n",
       "  overflow: hidden;\n",
       "  text-align: left;\n",
       "  /* unfitted */\n",
       "  background-color: var(--sklearn-color-unfitted-level-0);\n",
       "}\n",
       "\n",
       "#sk-container-id-4 div.sk-toggleable__content.fitted {\n",
       "  /* fitted */\n",
       "  background-color: var(--sklearn-color-fitted-level-0);\n",
       "}\n",
       "\n",
       "#sk-container-id-4 div.sk-toggleable__content pre {\n",
       "  margin: 0.2em;\n",
       "  border-radius: 0.25em;\n",
       "  color: var(--sklearn-color-text);\n",
       "  /* unfitted */\n",
       "  background-color: var(--sklearn-color-unfitted-level-0);\n",
       "}\n",
       "\n",
       "#sk-container-id-4 div.sk-toggleable__content.fitted pre {\n",
       "  /* unfitted */\n",
       "  background-color: var(--sklearn-color-fitted-level-0);\n",
       "}\n",
       "\n",
       "#sk-container-id-4 input.sk-toggleable__control:checked~div.sk-toggleable__content {\n",
       "  /* Expand drop-down */\n",
       "  max-height: 200px;\n",
       "  max-width: 100%;\n",
       "  overflow: auto;\n",
       "}\n",
       "\n",
       "#sk-container-id-4 input.sk-toggleable__control:checked~label.sk-toggleable__label-arrow:before {\n",
       "  content: \"▾\";\n",
       "}\n",
       "\n",
       "/* Pipeline/ColumnTransformer-specific style */\n",
       "\n",
       "#sk-container-id-4 div.sk-label input.sk-toggleable__control:checked~label.sk-toggleable__label {\n",
       "  color: var(--sklearn-color-text);\n",
       "  background-color: var(--sklearn-color-unfitted-level-2);\n",
       "}\n",
       "\n",
       "#sk-container-id-4 div.sk-label.fitted input.sk-toggleable__control:checked~label.sk-toggleable__label {\n",
       "  background-color: var(--sklearn-color-fitted-level-2);\n",
       "}\n",
       "\n",
       "/* Estimator-specific style */\n",
       "\n",
       "/* Colorize estimator box */\n",
       "#sk-container-id-4 div.sk-estimator input.sk-toggleable__control:checked~label.sk-toggleable__label {\n",
       "  /* unfitted */\n",
       "  background-color: var(--sklearn-color-unfitted-level-2);\n",
       "}\n",
       "\n",
       "#sk-container-id-4 div.sk-estimator.fitted input.sk-toggleable__control:checked~label.sk-toggleable__label {\n",
       "  /* fitted */\n",
       "  background-color: var(--sklearn-color-fitted-level-2);\n",
       "}\n",
       "\n",
       "#sk-container-id-4 div.sk-label label.sk-toggleable__label,\n",
       "#sk-container-id-4 div.sk-label label {\n",
       "  /* The background is the default theme color */\n",
       "  color: var(--sklearn-color-text-on-default-background);\n",
       "}\n",
       "\n",
       "/* On hover, darken the color of the background */\n",
       "#sk-container-id-4 div.sk-label:hover label.sk-toggleable__label {\n",
       "  color: var(--sklearn-color-text);\n",
       "  background-color: var(--sklearn-color-unfitted-level-2);\n",
       "}\n",
       "\n",
       "/* Label box, darken color on hover, fitted */\n",
       "#sk-container-id-4 div.sk-label.fitted:hover label.sk-toggleable__label.fitted {\n",
       "  color: var(--sklearn-color-text);\n",
       "  background-color: var(--sklearn-color-fitted-level-2);\n",
       "}\n",
       "\n",
       "/* Estimator label */\n",
       "\n",
       "#sk-container-id-4 div.sk-label label {\n",
       "  font-family: monospace;\n",
       "  font-weight: bold;\n",
       "  display: inline-block;\n",
       "  line-height: 1.2em;\n",
       "}\n",
       "\n",
       "#sk-container-id-4 div.sk-label-container {\n",
       "  text-align: center;\n",
       "}\n",
       "\n",
       "/* Estimator-specific */\n",
       "#sk-container-id-4 div.sk-estimator {\n",
       "  font-family: monospace;\n",
       "  border: 1px dotted var(--sklearn-color-border-box);\n",
       "  border-radius: 0.25em;\n",
       "  box-sizing: border-box;\n",
       "  margin-bottom: 0.5em;\n",
       "  /* unfitted */\n",
       "  background-color: var(--sklearn-color-unfitted-level-0);\n",
       "}\n",
       "\n",
       "#sk-container-id-4 div.sk-estimator.fitted {\n",
       "  /* fitted */\n",
       "  background-color: var(--sklearn-color-fitted-level-0);\n",
       "}\n",
       "\n",
       "/* on hover */\n",
       "#sk-container-id-4 div.sk-estimator:hover {\n",
       "  /* unfitted */\n",
       "  background-color: var(--sklearn-color-unfitted-level-2);\n",
       "}\n",
       "\n",
       "#sk-container-id-4 div.sk-estimator.fitted:hover {\n",
       "  /* fitted */\n",
       "  background-color: var(--sklearn-color-fitted-level-2);\n",
       "}\n",
       "\n",
       "/* Specification for estimator info (e.g. \"i\" and \"?\") */\n",
       "\n",
       "/* Common style for \"i\" and \"?\" */\n",
       "\n",
       ".sk-estimator-doc-link,\n",
       "a:link.sk-estimator-doc-link,\n",
       "a:visited.sk-estimator-doc-link {\n",
       "  float: right;\n",
       "  font-size: smaller;\n",
       "  line-height: 1em;\n",
       "  font-family: monospace;\n",
       "  background-color: var(--sklearn-color-background);\n",
       "  border-radius: 1em;\n",
       "  height: 1em;\n",
       "  width: 1em;\n",
       "  text-decoration: none !important;\n",
       "  margin-left: 1ex;\n",
       "  /* unfitted */\n",
       "  border: var(--sklearn-color-unfitted-level-1) 1pt solid;\n",
       "  color: var(--sklearn-color-unfitted-level-1);\n",
       "}\n",
       "\n",
       ".sk-estimator-doc-link.fitted,\n",
       "a:link.sk-estimator-doc-link.fitted,\n",
       "a:visited.sk-estimator-doc-link.fitted {\n",
       "  /* fitted */\n",
       "  border: var(--sklearn-color-fitted-level-1) 1pt solid;\n",
       "  color: var(--sklearn-color-fitted-level-1);\n",
       "}\n",
       "\n",
       "/* On hover */\n",
       "div.sk-estimator:hover .sk-estimator-doc-link:hover,\n",
       ".sk-estimator-doc-link:hover,\n",
       "div.sk-label-container:hover .sk-estimator-doc-link:hover,\n",
       ".sk-estimator-doc-link:hover {\n",
       "  /* unfitted */\n",
       "  background-color: var(--sklearn-color-unfitted-level-3);\n",
       "  color: var(--sklearn-color-background);\n",
       "  text-decoration: none;\n",
       "}\n",
       "\n",
       "div.sk-estimator.fitted:hover .sk-estimator-doc-link.fitted:hover,\n",
       ".sk-estimator-doc-link.fitted:hover,\n",
       "div.sk-label-container:hover .sk-estimator-doc-link.fitted:hover,\n",
       ".sk-estimator-doc-link.fitted:hover {\n",
       "  /* fitted */\n",
       "  background-color: var(--sklearn-color-fitted-level-3);\n",
       "  color: var(--sklearn-color-background);\n",
       "  text-decoration: none;\n",
       "}\n",
       "\n",
       "/* Span, style for the box shown on hovering the info icon */\n",
       ".sk-estimator-doc-link span {\n",
       "  display: none;\n",
       "  z-index: 9999;\n",
       "  position: relative;\n",
       "  font-weight: normal;\n",
       "  right: .2ex;\n",
       "  padding: .5ex;\n",
       "  margin: .5ex;\n",
       "  width: min-content;\n",
       "  min-width: 20ex;\n",
       "  max-width: 50ex;\n",
       "  color: var(--sklearn-color-text);\n",
       "  box-shadow: 2pt 2pt 4pt #999;\n",
       "  /* unfitted */\n",
       "  background: var(--sklearn-color-unfitted-level-0);\n",
       "  border: .5pt solid var(--sklearn-color-unfitted-level-3);\n",
       "}\n",
       "\n",
       ".sk-estimator-doc-link.fitted span {\n",
       "  /* fitted */\n",
       "  background: var(--sklearn-color-fitted-level-0);\n",
       "  border: var(--sklearn-color-fitted-level-3);\n",
       "}\n",
       "\n",
       ".sk-estimator-doc-link:hover span {\n",
       "  display: block;\n",
       "}\n",
       "\n",
       "/* \"?\"-specific style due to the `<a>` HTML tag */\n",
       "\n",
       "#sk-container-id-4 a.estimator_doc_link {\n",
       "  float: right;\n",
       "  font-size: 1rem;\n",
       "  line-height: 1em;\n",
       "  font-family: monospace;\n",
       "  background-color: var(--sklearn-color-background);\n",
       "  border-radius: 1rem;\n",
       "  height: 1rem;\n",
       "  width: 1rem;\n",
       "  text-decoration: none;\n",
       "  /* unfitted */\n",
       "  color: var(--sklearn-color-unfitted-level-1);\n",
       "  border: var(--sklearn-color-unfitted-level-1) 1pt solid;\n",
       "}\n",
       "\n",
       "#sk-container-id-4 a.estimator_doc_link.fitted {\n",
       "  /* fitted */\n",
       "  border: var(--sklearn-color-fitted-level-1) 1pt solid;\n",
       "  color: var(--sklearn-color-fitted-level-1);\n",
       "}\n",
       "\n",
       "/* On hover */\n",
       "#sk-container-id-4 a.estimator_doc_link:hover {\n",
       "  /* unfitted */\n",
       "  background-color: var(--sklearn-color-unfitted-level-3);\n",
       "  color: var(--sklearn-color-background);\n",
       "  text-decoration: none;\n",
       "}\n",
       "\n",
       "#sk-container-id-4 a.estimator_doc_link.fitted:hover {\n",
       "  /* fitted */\n",
       "  background-color: var(--sklearn-color-fitted-level-3);\n",
       "}\n",
       "</style><div id=\"sk-container-id-4\" class=\"sk-top-container\"><div class=\"sk-text-repr-fallback\"><pre>RandomForestClassifier(max_depth=4, min_samples_split=5, n_estimators=50,\n",
       "                       random_state=42)</pre><b>In a Jupyter environment, please rerun this cell to show the HTML representation or trust the notebook. <br />On GitHub, the HTML representation is unable to render, please try loading this page with nbviewer.org.</b></div><div class=\"sk-container\" hidden><div class=\"sk-item\"><div class=\"sk-estimator fitted sk-toggleable\"><input class=\"sk-toggleable__control sk-hidden--visually\" id=\"sk-estimator-id-4\" type=\"checkbox\" checked><label for=\"sk-estimator-id-4\" class=\"sk-toggleable__label fitted sk-toggleable__label-arrow fitted\">&nbsp;&nbsp;RandomForestClassifier<a class=\"sk-estimator-doc-link fitted\" rel=\"noreferrer\" target=\"_blank\" href=\"https://scikit-learn.org/1.5/modules/generated/sklearn.ensemble.RandomForestClassifier.html\">?<span>Documentation for RandomForestClassifier</span></a><span class=\"sk-estimator-doc-link fitted\">i<span>Fitted</span></span></label><div class=\"sk-toggleable__content fitted\"><pre>RandomForestClassifier(max_depth=4, min_samples_split=5, n_estimators=50,\n",
       "                       random_state=42)</pre></div> </div></div></div></div>"
      ],
      "text/plain": [
       "RandomForestClassifier(max_depth=4, min_samples_split=5, n_estimators=50,\n",
       "                       random_state=42)"
      ]
     },
     "execution_count": 100,
     "metadata": {},
     "output_type": "execute_result"
    }
   ],
   "source": [
    "# Modeli tanımla ve eğit\n",
    "rf_clf = RandomForestClassifier(\n",
    "    n_estimators=50,\n",
    "    max_depth=4,\n",
    "    min_samples_split=5,\n",
    "    random_state=42\n",
    ")\n",
    "rf_clf.fit(X_train, y_train)"
   ]
  },
  {
   "cell_type": "markdown",
   "id": "2d9723ef-6516-4b4e-8f68-52b9bcb3c561",
   "metadata": {},
   "source": [
    "#### Eğitim Verilerinin Öğrenilme Oranı"
   ]
  },
  {
   "cell_type": "code",
   "execution_count": 102,
   "id": "7331e70c-8cb9-4f83-9594-6208c43742da",
   "metadata": {},
   "outputs": [
    {
     "name": "stdout",
     "output_type": "stream",
     "text": [
      "RF Egitim Dogrulugu: 95.58%\n"
     ]
    }
   ],
   "source": [
    "acc_train_rf = round(rf_clf.score(X_train, y_train) * 100, 2)\n",
    "print(f\"RF Egitim Dogrulugu: {acc_train_rf}%\")"
   ]
  },
  {
   "cell_type": "markdown",
   "id": "804bf65d-915e-4910-8a96-fa41c5ca82e5",
   "metadata": {},
   "source": [
    "#### Test Verilerinin Öğrenilme Oranı"
   ]
  },
  {
   "cell_type": "code",
   "execution_count": 104,
   "id": "158185e7-8190-4d1b-9341-32ee967c7b3e",
   "metadata": {},
   "outputs": [
    {
     "name": "stdout",
     "output_type": "stream",
     "text": [
      "RF Test Dogrulugu: 95.6%\n"
     ]
    }
   ],
   "source": [
    "acc_test_rf = round(rf_clf.score(X_test, y_test) * 100, 2)\n",
    "print(f\"RF Test Dogrulugu: {acc_test_rf}%\")"
   ]
  },
  {
   "cell_type": "markdown",
   "id": "a0f422db-9a90-410e-893c-845cb08d7e10",
   "metadata": {},
   "source": [
    "#### Hata Matrisi"
   ]
  },
  {
   "cell_type": "code",
   "execution_count": 106,
   "id": "1ac8b2d8-1f8c-430d-899d-c50bb68d5844",
   "metadata": {},
   "outputs": [
    {
     "data": {
      "image/png": "[encoded data removed]",
      "text/plain": [
       "<Figure size 1200x600 with 1 Axes>"
      ]
     },
     "metadata": {},
     "output_type": "display_data"
    }
   ],
   "source": [
    "y_pred = rf_clf.predict(X_test)\n",
    "conf_matrix = confusion_matrix(y_test, y_pred)\n",
    "\n",
    "# Hata matrisini normalize et\n",
    "conf_matrix_rf_normalized = conf_matrix.astype('float') / conf_matrix.sum(axis=1)[:, np.newaxis]\n",
    "\n",
    "plt.figure(figsize=(12, 6))\n",
    "sns.heatmap(conf_matrix_rf_normalized, annot=True, fmt='.2f', cmap='Blues', \n",
    "            xticklabels=rf_clf.classes_, yticklabels=rf_clf.classes_, cbar=False)\n",
    "plt.title('Hata Matrisi - Random Forest')\n",
    "plt.xlabel('Ogrenilen Degerler (y_pred)')\n",
    "plt.ylabel('Gercek Degerler (y_test)')\n",
    "plt.xticks(rotation=30)\n",
    "plt.show()"
   ]
  },
  {
   "cell_type": "markdown",
   "id": "25b1b161-b195-449f-ab69-8346c10d3bb0",
   "metadata": {},
   "source": [
    "#### İlk Karar Ağacının Görünümü"
   ]
  },
  {
   "cell_type": "code",
   "execution_count": 108,
   "id": "8909290a-962f-4360-98f7-85a10417747e",
   "metadata": {},
   "outputs": [
    {
     "data": {
      "image/png": "[encoded data removed]",
      "text/plain": [
       "<Figure size 1200x600 with 1 Axes>"
      ]
     },
     "metadata": {},
     "output_type": "display_data"
    }
   ],
   "source": [
    "# İlk ağacı görselleştir\n",
    "plt.figure(figsize=(12, 6))\n",
    "plot_tree(rf_clf.estimators_[0], filled=True, feature_names=X.columns, class_names=rf_clf.classes_, max_depth=3)\n",
    "plt.title(\"Random Forest - Ilk Karar Agaci\")\n",
    "plt.show()"
   ]
  },
  {
   "cell_type": "code",
   "execution_count": 109,
   "id": "37f95087-90c6-4728-8432-eea499c1cbdd",
   "metadata": {},
   "outputs": [
    {
     "name": "stdout",
     "output_type": "stream",
     "text": [
      "|--- ph <= 7.77\n",
      "|   |--- turbidity <= 3.52\n",
      "|   |   |--- class: rui\n",
      "|   |--- turbidity >  3.52\n",
      "|   |   |--- temperature <= 23.15\n",
      "|   |   |   |--- temperature <= 21.16\n",
      "|   |   |   |   |--- class: shrimp\n",
      "|   |   |   |--- temperature >  21.16\n",
      "|   |   |   |   |--- class: katla\n",
      "|   |   |--- temperature >  23.15\n",
      "|   |   |   |--- class: prawn\n",
      "|--- ph >  7.77\n",
      "|   |--- temperature <= 17.91\n",
      "|   |   |--- ph <= 8.72\n",
      "|   |   |   |--- class: sing\n",
      "|   |   |--- ph >  8.72\n",
      "|   |   |   |--- class: tilapia\n",
      "|   |--- temperature >  17.91\n",
      "|   |   |--- ph <= 8.57\n",
      "|   |   |   |--- ph <= 7.85\n",
      "|   |   |   |   |--- class: silverCup\n",
      "|   |   |   |--- ph >  7.85\n",
      "|   |   |   |   |--- class: koi\n",
      "|   |   |--- ph >  8.57\n",
      "|   |   |   |--- temperature <= 17.97\n",
      "|   |   |   |   |--- class: tilapia\n",
      "|   |   |   |--- temperature >  17.97\n",
      "|   |   |   |   |--- class: tilapia\n",
      "\n"
     ]
    }
   ],
   "source": [
    "# Sınıf adlarını modele ekleyin\n",
    "class_names = list(y.unique())\n",
    "\n",
    "# İlk karar agacini metin formatinda gorsellestir\n",
    "tree_rules = export_text(\n",
    "    rf_clf.estimators_[0],  # İlk karar agacini sec\n",
    "    feature_names=list(X.columns),  # Ozellik isimleri\n",
    "    class_names=[str(cls) for cls in class_names]  # Sinif isimlerini ekle\n",
    ")\n",
    "\n",
    "print(tree_rules)"
   ]
  },
  {
   "cell_type": "markdown",
   "id": "01dfc1a7-0a97-4ee0-bccf-845c08fa3385",
   "metadata": {},
   "source": [
    "#### Modelin Kaydedilmesi"
   ]
  },
  {
   "cell_type": "code",
   "execution_count": 111,
   "id": "17f371db-e5fd-4926-be21-625e52bd6c84",
   "metadata": {},
   "outputs": [
    {
     "name": "stdout",
     "output_type": "stream",
     "text": [
      "Model basari ile kaydedildi!\n"
     ]
    }
   ],
   "source": [
    "# Modeli .pkl dosyasina kaydet\n",
    "import joblib\n",
    "joblib.dump(rf_clf, \"veri_modeli_son.pkl\")\n",
    "print(\"Model basari ile kaydedildi!\")"
   ]
  },
  {
   "cell_type": "markdown",
   "id": "5513d761-c9e9-4290-a82b-e637c94849df",
   "metadata": {},
   "source": [
    "#### Modelin Çalıştırılması"
   ]
  },
  {
   "cell_type": "code",
   "execution_count": 113,
   "id": "425e2db2-ba1b-4a6d-b64f-7c5044ed7707",
   "metadata": {},
   "outputs": [
    {
     "name": "stdout",
     "output_type": "stream",
     "text": [
      "Balik turu tahmini icin lutfen asagidaki bilgileri giriniz.\n"
     ]
    },
    {
     "name": "stdin",
     "output_type": "stream",
     "text": [
      "pH degerini girin (pH):  5\n",
      "Bulanikli degerini girin (NTU):  1\n",
      "Sicaklik degerini girin (°C):  25\n"
     ]
    },
    {
     "name": "stdout",
     "output_type": "stream",
     "text": [
      "Model basariyla yuklendi.\n",
      "Tahmin edilen balik turu: rui\n"
     ]
    }
   ],
   "source": [
    "import os\n",
    "\n",
    "def manual_rf_prediction(ph, temperature, turbidity):\n",
    "    try:\n",
    "        # Model dosyasının varlığını kontrol et\n",
    "        model_path = \"veri_modeli_son.pkl\"\n",
    "        if not os.path.exists(model_path):\n",
    "            print(\"Model dosyasi bulunamadi.\")\n",
    "            return\n",
    "\n",
    "        # Modeli yükle\n",
    "        rf_model = joblib.load(model_path)\n",
    "        print(\"Model basariyla yuklendi.\")\n",
    "        \n",
    "        # Giriş verilerini bir listeye dönüştür\n",
    "        input_data = [[ph, turbidity, temperature]]\n",
    "        \n",
    "        # Tahmin yap\n",
    "        prediction = rf_model.predict(input_data)\n",
    "        \n",
    "        # Tahmin sonucunu kullanıcıya göster\n",
    "        print(f\"Tahmin edilen balik turu: {prediction[0]}\")\n",
    "    except Exception as e:\n",
    "        print(f\"Bir hata olustu: {e}\")\n",
    "\n",
    "# Kullanıcidan giris al\n",
    "try:\n",
    "    print(\"Balik turu tahmini icin lutfen asagidaki bilgileri giriniz.\")\n",
    "    ph = float(input(\"pH degerini girin (pH): \"))\n",
    "    temperature = float(input(\"Bulanikli degerini girin (NTU): \"))\n",
    "    turbidity = float(input(\"Sicaklik degerini girin (°C): \"))\n",
    "    manual_rf_prediction(ph, turbidity, temperature)\n",
    "except ValueError:\n",
    "    print(\"Gecerli bir sayi girin.\")"
   ]
  }
 ],
 "metadata": {
  "kernelspec": {
   "display_name": "Python 3 (ipykernel)",
   "language": "python",
   "name": "python3"
  },
  "language_info": {
   "codemirror_mode": {
    "name": "ipython",
    "version": 3
   },
   "file_extension": ".py",
   "mimetype": "text/x-python",
   "name": "python",
   "nbconvert_exporter": "python",
   "pygments_lexer": "ipython3",
   "version": "3.12.7"
  },
  "panel-cell-order": [
   "26ed1352-c768-4381-9328-f2d16295f26a",
   "1ee538a8-3ef5-444a-a752-ddac8f374419",
   "ec2bd2c6-f9e0-4657-a937-7eb9e0258152",
   "31d11d90-c0bb-4199-8821-78ec7f2d3f37",
   "077bd545-a422-412b-88b4-984f939aa984",
   "10c77807-32e0-4589-844a-c60dd0caba9b",
   "54ba8a76-9619-4833-8373-e05ceb577fb3",
   "eb36240d-e736-4486-b878-5012785fe095",
   "0d06d4e2-c968-4e74-bf1f-c9de3932c4db",
   "a60be857-24a3-4023-bc36-3f6de26055e0",
   "6c439e02-eb1b-4f7a-a8e4-827d02de0a6f",
   "7b9cf584-fd9e-4c03-a108-9ebc55918a38",
   "c0da562d-744c-454a-bfc3-d011a1994118",
   "73b030b4-b7a6-485b-9fe9-a1b9aeb988d4",
   "0c8a58d2-abbe-4f37-9bb1-83913261b8a7",
   "d1e27496-712a-4d86-b89c-326d44a8f76c",
   "918ba487-d4d4-496a-81b2-ae0feb295b6b",
   "00a14929-4542-40a7-b112-21847cfb2f58",
   "625b319d-56d8-463b-96c3-a32371db7896",
   "36944c12-7e39-459f-8290-aae0ba3c3a52",
   "6edb2c9d-71bc-4bb8-8385-e3b2a84daca7",
   "ffa0f586-f947-43a4-a3ce-0e332751b846",
   "3cd9339c-df5d-4409-995c-e2e7e3f7bcda",
   "f062595a-c345-4599-89c5-d828464c8594",
   "ff5e062f-e2de-4261-8d9f-fa5e11f72c21",
   "41cee013-0a7d-4f9b-a0c1-35fd17d76366",
   "95eb5fd4-8d4b-44aa-8900-2aabbab99e5d",
   "c77dddcc-487d-49e7-aca7-f671f581caeb",
   "7d20de6e-79a7-46dc-8c8e-3f46db3c97c0",
   "3003dd3c-cb1f-40ec-b9f7-61b6d14f3391",
   "16880b31-9c3c-4cb6-8f43-2e5e6c1da10b",
   "1f37025c-ee2f-47a4-9cd3-f31cbbbd0202",
   "fb900f24-7fbc-49d8-914b-af5b8596ba80",
   "26813b3d-d26a-48e4-a180-39ceea37e5d0",
   "d0a70756-279a-4f71-920d-0ccf7369d04b",
   "2fdd7700-6f9d-421c-894e-82cc2d5d24ed",
   "9df1d7d0-6876-4389-81d6-9db250725928",
   "95df01e7-5d87-4530-adbd-b924614967c8",
   "36dc1434-7be6-4c55-bf10-32cfe47a8c3f",
   "596de204-14b4-4551-9467-9703a8816914",
   "f7f00036-9640-46d6-bc63-9d262aea0ee0",
   "020b9283-c9f6-4387-8f44-8fa294e3a3ea",
   "fd2a9abb-64e5-48bc-b0d3-115cad77ec84",
   "475c259a-f5f5-4e8b-a1fe-33e881edf17a",
   "8f0e0d73-236d-4864-a521-3fdab5a2d25d",
   "5b2923aa-ca4a-4314-9af6-febb5b0a4ab1",
   "24e71cb7-da63-411e-a61e-85f1752cd928",
   "6caa87df-46ab-425c-8546-195b450529c6",
   "69daa128-fd39-4829-9851-d4795a9a218a",
   "e0b00549-5582-40c1-9e70-50dca0204ecf",
   "ce1119c1-aa6a-4761-a22c-80b25e8e8148",
   "beac9f33-aab1-4ecc-b159-9860f1c33348",
   "2303ae09-e665-4af6-b606-3676cf674d8d",
   "5e74cde3-77ef-4c68-a956-f5dfccc5ec2a",
   "67d865ed-627b-4c19-9858-6e5620e0db88",
   "42e58e54-1653-46c1-aa2b-2bb388368dd0",
   "25a26dbf-6655-4dbe-8197-c0a2af867c0c",
   "0ffc0026-bf71-4a8a-9d3d-ea234d97cc3e",
   "359a090d-7fb7-4dba-b701-497444fff4f9",
   "8b61e867-3820-4d18-af4a-0f9996ebb444",
   "d44cfa6b-9ee8-4981-97a2-536919c9a72f",
   "6706008c-ca64-4784-ba0e-27b1ddcdb361",
   "540a56b7-d691-4aae-a619-f55c08792ca6",
   "43bdb852-3db0-4e83-90e7-182300666aef",
   "fd2e5e10-0484-4637-a796-3499362610bf",
   "d3854f31-78e0-4cd9-85e9-a46377b13ab0",
   "b1929119-0efd-47a3-a0e9-cf289dd04086",
   "a32a2b3a-d097-426b-9a1b-b28f60129249",
   "6238a6b7-0c4b-480e-96ab-ae7181c6307c",
   "5e9f098c-4695-458d-925f-b768005c8145",
   "5de69865-d636-41f8-b86f-28dccb9ff290",
   "40cded85-d5ea-49ca-a879-0c0a4b5b324b",
   "4e2ba1f5-779c-4d13-b9e8-163c24d7c1af",
   "6c1abff4-c99d-4126-b509-087256b0539e",
   "9458a3f7-071e-4ec0-b224-67e909d4deda",
   "69c25e5a-9b03-440d-b9b8-e3dc09694bda",
   "ace66bd3-d378-4699-957a-55db4537ae5b",
   "1daa5e1c-8e6c-4a68-902e-02713605067a",
   "7307051b-6bf4-4fc7-a96c-a9a1aa59e257",
   "4684d25f-165b-4e5f-b9ae-6b5452a502ef",
   "7d815fb7-ef28-4dbe-8c53-b924dbcd0513",
   "106e5bb3-5399-4557-8d34-d9cfc80c7ae8",
   "40017481-8637-4894-a2a4-bc31ec231353",
   "4c3d748a-2513-4872-bded-9a9eac06048d",
   "7d893f72-2b70-4629-b706-c9bb081ecbc0",
   "2bf5df6c-9058-4fed-a394-1e0e12129e33",
   "f8440b30-b87f-498b-bd72-2d2171facfec",
   "48bee49c-a345-4b96-b395-9db6c105631b",
   "12702824-3774-43e9-ab16-97ef6f2e75bf",
   "df57d42b-a785-4116-ae0f-d80ab01bbef4",
   "dbe12a59-0885-4274-b7c3-b7732047963f",
   "0ab97a1b-e389-473d-adcc-70a047dbd952",
   "522b8ed4-3686-4454-8254-1cf56d2d963a"
  ]
 },
 "nbformat": 4,
 "nbformat_minor": 5
}
